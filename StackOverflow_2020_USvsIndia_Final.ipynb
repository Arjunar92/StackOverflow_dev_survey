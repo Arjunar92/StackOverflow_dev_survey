{
 "cells": [
  {
   "cell_type": "markdown",
   "metadata": {},
   "source": [
    "# Comparing salary reports of developers in India and the USA"
   ]
  },
  {
   "cell_type": "markdown",
   "metadata": {},
   "source": [
    "# 1. Introduction: "
   ]
  },
  {
   "cell_type": "markdown",
   "metadata": {},
   "source": [
    "Every year, Stack overflow conducts a survey among its users predominantly in the Developer's community and then publishes analysis and insights. For this analysis, I have used the data from the latest survey in 2020 with over 65,000 respondents for the survey from over 180 countries and diverse demographics answering a wide range of questions ranging from behavioral, preferred technology, qualification among many others."
   ]
  },
  {
   "cell_type": "markdown",
   "metadata": {},
   "source": [
    "# 2. Business Understanding: "
   ]
  },
  {
   "cell_type": "markdown",
   "metadata": {},
   "source": [
    "Year after year, we see that US is one of the most sought after destination for work for Developers or aspiring developers in India. To explore more on the possible reasons for this trend, I am going to analze the Stack Overflow 2020 Annual Developer Survey and do a comparative study on salary of respondents from USA and India. In the process we will answer a few questions:\n",
    "\n",
    "1. How different is the median salary in the USA and India?\n",
    "\n",
    "2. What is the spread of salary distribution in USA and India?\n",
    "\n",
    "3. How different are the gender pay gap in USA and India?\n",
    "\n",
    "4. How are developers paid based on their qualification? \n",
    "\n",
    "5. How are developers paid based on the developer role?\n",
    "\n",
    "6. What are the prohramming languages that pays the most in USA and India? \n",
    "\n",
    "\n"
   ]
  },
  {
   "cell_type": "markdown",
   "metadata": {},
   "source": [
    "# 2. Data Understanding\n"
   ]
  },
  {
   "cell_type": "markdown",
   "metadata": {},
   "source": [
    "This involves some basic expoloratory analysis of data to get a better understanding about the data to evaluate them. "
   ]
  },
  {
   "cell_type": "markdown",
   "metadata": {},
   "source": [
    "###### Importing Libraries"
   ]
  },
  {
   "cell_type": "code",
   "execution_count": 48,
   "metadata": {},
   "outputs": [],
   "source": [
    "#Import the required python libraries for data analysis. \n",
    "\n",
    "#Data Analysis\n",
    "import numpy as np\n",
    "import pandas as pd\n",
    "\n",
    "#Data Visulaization \n",
    "import matplotlib.pyplot as plt\n",
    "import seaborn as sns\n",
    "%matplotlib inline\n",
    "\n",
    "#Data Modelling and AL\n",
    "from sklearn.linear_model import LinearRegression\n",
    "from sklearn.model_selection import train_test_split\n",
    "from sklearn.metrics import r2_score, mean_squared_error\n",
    "\n",
    "#import ImputingValues as t\n",
    "#import HowToBreakIntoTheField as t"
   ]
  },
  {
   "cell_type": "code",
   "execution_count": 49,
   "metadata": {},
   "outputs": [
    {
     "data": {
      "text/html": [
       "<div>\n",
       "<style scoped>\n",
       "    .dataframe tbody tr th:only-of-type {\n",
       "        vertical-align: middle;\n",
       "    }\n",
       "\n",
       "    .dataframe tbody tr th {\n",
       "        vertical-align: top;\n",
       "    }\n",
       "\n",
       "    .dataframe thead th {\n",
       "        text-align: right;\n",
       "    }\n",
       "</style>\n",
       "<table border=\"1\" class=\"dataframe\">\n",
       "  <thead>\n",
       "    <tr style=\"text-align: right;\">\n",
       "      <th></th>\n",
       "      <th>Respondent</th>\n",
       "      <th>MainBranch</th>\n",
       "      <th>Hobbyist</th>\n",
       "      <th>Age</th>\n",
       "      <th>Age1stCode</th>\n",
       "      <th>CompFreq</th>\n",
       "      <th>CompTotal</th>\n",
       "      <th>ConvertedComp</th>\n",
       "      <th>Country</th>\n",
       "      <th>CurrencyDesc</th>\n",
       "      <th>...</th>\n",
       "      <th>SurveyEase</th>\n",
       "      <th>SurveyLength</th>\n",
       "      <th>Trans</th>\n",
       "      <th>UndergradMajor</th>\n",
       "      <th>WebframeDesireNextYear</th>\n",
       "      <th>WebframeWorkedWith</th>\n",
       "      <th>WelcomeChange</th>\n",
       "      <th>WorkWeekHrs</th>\n",
       "      <th>YearsCode</th>\n",
       "      <th>YearsCodePro</th>\n",
       "    </tr>\n",
       "  </thead>\n",
       "  <tbody>\n",
       "    <tr>\n",
       "      <th>0</th>\n",
       "      <td>1</td>\n",
       "      <td>I am a developer by profession</td>\n",
       "      <td>Yes</td>\n",
       "      <td>NaN</td>\n",
       "      <td>13</td>\n",
       "      <td>Monthly</td>\n",
       "      <td>NaN</td>\n",
       "      <td>NaN</td>\n",
       "      <td>Germany</td>\n",
       "      <td>European Euro</td>\n",
       "      <td>...</td>\n",
       "      <td>Neither easy nor difficult</td>\n",
       "      <td>Appropriate in length</td>\n",
       "      <td>No</td>\n",
       "      <td>Computer science, computer engineering, or sof...</td>\n",
       "      <td>ASP.NET Core</td>\n",
       "      <td>ASP.NET;ASP.NET Core</td>\n",
       "      <td>Just as welcome now as I felt last year</td>\n",
       "      <td>50.0</td>\n",
       "      <td>36</td>\n",
       "      <td>27</td>\n",
       "    </tr>\n",
       "    <tr>\n",
       "      <th>1</th>\n",
       "      <td>2</td>\n",
       "      <td>I am a developer by profession</td>\n",
       "      <td>No</td>\n",
       "      <td>NaN</td>\n",
       "      <td>19</td>\n",
       "      <td>NaN</td>\n",
       "      <td>NaN</td>\n",
       "      <td>NaN</td>\n",
       "      <td>United Kingdom</td>\n",
       "      <td>Pound sterling</td>\n",
       "      <td>...</td>\n",
       "      <td>NaN</td>\n",
       "      <td>NaN</td>\n",
       "      <td>NaN</td>\n",
       "      <td>Computer science, computer engineering, or sof...</td>\n",
       "      <td>NaN</td>\n",
       "      <td>NaN</td>\n",
       "      <td>Somewhat more welcome now than last year</td>\n",
       "      <td>NaN</td>\n",
       "      <td>7</td>\n",
       "      <td>4</td>\n",
       "    </tr>\n",
       "  </tbody>\n",
       "</table>\n",
       "<p>2 rows × 61 columns</p>\n",
       "</div>"
      ],
      "text/plain": [
       "   Respondent                      MainBranch Hobbyist  Age Age1stCode  \\\n",
       "0           1  I am a developer by profession      Yes  NaN         13   \n",
       "1           2  I am a developer by profession       No  NaN         19   \n",
       "\n",
       "  CompFreq  CompTotal  ConvertedComp         Country    CurrencyDesc  ...  \\\n",
       "0  Monthly        NaN            NaN         Germany   European Euro  ...   \n",
       "1      NaN        NaN            NaN  United Kingdom  Pound sterling  ...   \n",
       "\n",
       "                   SurveyEase           SurveyLength Trans  \\\n",
       "0  Neither easy nor difficult  Appropriate in length    No   \n",
       "1                         NaN                    NaN   NaN   \n",
       "\n",
       "                                      UndergradMajor WebframeDesireNextYear  \\\n",
       "0  Computer science, computer engineering, or sof...           ASP.NET Core   \n",
       "1  Computer science, computer engineering, or sof...                    NaN   \n",
       "\n",
       "     WebframeWorkedWith                             WelcomeChange WorkWeekHrs  \\\n",
       "0  ASP.NET;ASP.NET Core   Just as welcome now as I felt last year        50.0   \n",
       "1                   NaN  Somewhat more welcome now than last year         NaN   \n",
       "\n",
       "  YearsCode YearsCodePro  \n",
       "0        36           27  \n",
       "1         7            4  \n",
       "\n",
       "[2 rows x 61 columns]"
      ]
     },
     "execution_count": 49,
     "metadata": {},
     "output_type": "execute_result"
    }
   ],
   "source": [
    "#Import data from the source file\n",
    "df = pd.read_csv('survey_results_public.csv')\n",
    "df.head(2)"
   ]
  },
  {
   "cell_type": "code",
   "execution_count": 50,
   "metadata": {},
   "outputs": [],
   "source": [
    "#Select only those respondents who are Developers, Who were Developers, or those who code as part of their job\n",
    "#Exclude Students or those who code primarily as hobby\n",
    "df = df[df['MainBranch'].isin([\"I am a developer by profession\", \n",
    "                               \"I am not primarily a developer, but I write code sometimes as part of my work\",\n",
    "                               \"I used to be a developer by profession, but no longer am\" ])]"
   ]
  },
  {
   "cell_type": "markdown",
   "metadata": {},
   "source": [
    "### Data Exploration"
   ]
  },
  {
   "cell_type": "code",
   "execution_count": 51,
   "metadata": {},
   "outputs": [
    {
     "data": {
      "text/html": [
       "<div>\n",
       "<style scoped>\n",
       "    .dataframe tbody tr th:only-of-type {\n",
       "        vertical-align: middle;\n",
       "    }\n",
       "\n",
       "    .dataframe tbody tr th {\n",
       "        vertical-align: top;\n",
       "    }\n",
       "\n",
       "    .dataframe thead th {\n",
       "        text-align: right;\n",
       "    }\n",
       "</style>\n",
       "<table border=\"1\" class=\"dataframe\">\n",
       "  <thead>\n",
       "    <tr style=\"text-align: right;\">\n",
       "      <th></th>\n",
       "      <th>count</th>\n",
       "      <th>mean</th>\n",
       "      <th>std</th>\n",
       "      <th>min</th>\n",
       "      <th>25%</th>\n",
       "      <th>50%</th>\n",
       "      <th>75%</th>\n",
       "      <th>max</th>\n",
       "    </tr>\n",
       "  </thead>\n",
       "  <tbody>\n",
       "    <tr>\n",
       "      <th>Respondent</th>\n",
       "      <td>53878.0</td>\n",
       "      <td>3.197871e+04</td>\n",
       "      <td>1.890313e+04</td>\n",
       "      <td>1.0</td>\n",
       "      <td>15528.25</td>\n",
       "      <td>31641.5</td>\n",
       "      <td>48350.75</td>\n",
       "      <td>6.563600e+04</td>\n",
       "    </tr>\n",
       "    <tr>\n",
       "      <th>Age</th>\n",
       "      <td>38895.0</td>\n",
       "      <td>3.214473e+01</td>\n",
       "      <td>9.098689e+00</td>\n",
       "      <td>1.0</td>\n",
       "      <td>26.00</td>\n",
       "      <td>30.0</td>\n",
       "      <td>36.00</td>\n",
       "      <td>2.790000e+02</td>\n",
       "    </tr>\n",
       "    <tr>\n",
       "      <th>CompTotal</th>\n",
       "      <td>34826.0</td>\n",
       "      <td>3.190464e+242</td>\n",
       "      <td>inf</td>\n",
       "      <td>0.0</td>\n",
       "      <td>20000.00</td>\n",
       "      <td>63000.0</td>\n",
       "      <td>125000.00</td>\n",
       "      <td>1.111111e+247</td>\n",
       "    </tr>\n",
       "    <tr>\n",
       "      <th>ConvertedComp</th>\n",
       "      <td>34756.0</td>\n",
       "      <td>1.037561e+05</td>\n",
       "      <td>2.268853e+05</td>\n",
       "      <td>0.0</td>\n",
       "      <td>24648.00</td>\n",
       "      <td>54049.0</td>\n",
       "      <td>95000.00</td>\n",
       "      <td>2.000000e+06</td>\n",
       "    </tr>\n",
       "    <tr>\n",
       "      <th>WorkWeekHrs</th>\n",
       "      <td>41151.0</td>\n",
       "      <td>4.078217e+01</td>\n",
       "      <td>1.781638e+01</td>\n",
       "      <td>1.0</td>\n",
       "      <td>40.00</td>\n",
       "      <td>40.0</td>\n",
       "      <td>44.00</td>\n",
       "      <td>4.750000e+02</td>\n",
       "    </tr>\n",
       "  </tbody>\n",
       "</table>\n",
       "</div>"
      ],
      "text/plain": [
       "                 count           mean           std  min       25%      50%  \\\n",
       "Respondent     53878.0   3.197871e+04  1.890313e+04  1.0  15528.25  31641.5   \n",
       "Age            38895.0   3.214473e+01  9.098689e+00  1.0     26.00     30.0   \n",
       "CompTotal      34826.0  3.190464e+242           inf  0.0  20000.00  63000.0   \n",
       "ConvertedComp  34756.0   1.037561e+05  2.268853e+05  0.0  24648.00  54049.0   \n",
       "WorkWeekHrs    41151.0   4.078217e+01  1.781638e+01  1.0     40.00     40.0   \n",
       "\n",
       "                     75%            max  \n",
       "Respondent      48350.75   6.563600e+04  \n",
       "Age                36.00   2.790000e+02  \n",
       "CompTotal      125000.00  1.111111e+247  \n",
       "ConvertedComp   95000.00   2.000000e+06  \n",
       "WorkWeekHrs        44.00   4.750000e+02  "
      ]
     },
     "execution_count": 51,
     "metadata": {},
     "output_type": "execute_result"
    }
   ],
   "source": [
    "# basic discriptive statistics\n",
    "#df.info()\n",
    "df.describe().transpose()"
   ]
  },
  {
   "cell_type": "code",
   "execution_count": 52,
   "metadata": {},
   "outputs": [
    {
     "data": {
      "text/plain": [
       "54049.0"
      ]
     },
     "execution_count": 52,
     "metadata": {},
     "output_type": "execute_result"
    }
   ],
   "source": [
    "df['ConvertedComp'].median()"
   ]
  },
  {
   "cell_type": "code",
   "execution_count": 53,
   "metadata": {
    "scrolled": true
   },
   "outputs": [
    {
     "data": {
      "text/plain": [
       "I am a developer by profession                                                   47193\n",
       "I am not primarily a developer, but I write code sometimes as part of my work     5502\n",
       "I used to be a developer by profession, but no longer am                          1183\n",
       "Name: MainBranch, dtype: int64"
      ]
     },
     "execution_count": 53,
     "metadata": {},
     "output_type": "execute_result"
    }
   ],
   "source": [
    "df['MainBranch'].value_counts()"
   ]
  },
  {
   "cell_type": "code",
   "execution_count": 54,
   "metadata": {},
   "outputs": [
    {
     "data": {
      "text/plain": [
       "Bachelor’s degree (B.A., B.S., B.Eng., etc.)                                          23954\n",
       "Master’s degree (M.A., M.S., M.Eng., MBA, etc.)                                       12507\n",
       "Some college/university study without earning a degree                                 5608\n",
       "Secondary school (e.g. American high school, German Realschule or Gymnasium, etc.)     2194\n",
       "Other doctoral degree (Ph.D., Ed.D., etc.)                                             1607\n",
       "Associate degree (A.A., A.S., etc.)                                                    1558\n",
       "Professional degree (JD, MD, etc.)                                                      711\n",
       "I never completed any formal education                                                  339\n",
       "Primary/elementary school                                                               266\n",
       "Name: EdLevel, dtype: int64"
      ]
     },
     "execution_count": 54,
     "metadata": {},
     "output_type": "execute_result"
    }
   ],
   "source": [
    "df['EdLevel'].value_counts()"
   ]
  },
  {
   "cell_type": "code",
   "execution_count": 55,
   "metadata": {
    "scrolled": true
   },
   "outputs": [
    {
     "data": {
      "text/plain": [
       "10    4199\n",
       "5     3087\n",
       "8     3002\n",
       "6     2997\n",
       "7     2934\n",
       "Name: YearsCode, dtype: int64"
      ]
     },
     "execution_count": 55,
     "metadata": {},
     "output_type": "execute_result"
    }
   ],
   "source": [
    "df['YearsCode'].value_counts().head()"
   ]
  },
  {
   "cell_type": "code",
   "execution_count": 56,
   "metadata": {
    "scrolled": false
   },
   "outputs": [
    {
     "data": {
      "text/plain": [
       "Developer, full-stack                                             0.090818\n",
       "Developer, back-end                                               0.063451\n",
       "Developer, back-end;Developer, front-end;Developer, full-stack    0.045847\n",
       "Developer, back-end;Developer, full-stack                         0.030956\n",
       "Developer, front-end                                              0.027410\n",
       "Name: DevType, dtype: float64"
      ]
     },
     "execution_count": 56,
     "metadata": {},
     "output_type": "execute_result"
    }
   ],
   "source": [
    "df['DevType'].value_counts(normalize = True).head()"
   ]
  },
  {
   "cell_type": "code",
   "execution_count": 57,
   "metadata": {
    "scrolled": true
   },
   "outputs": [
    {
     "data": {
      "text/plain": [
       "<AxesSubplot:>"
      ]
     },
     "execution_count": 57,
     "metadata": {},
     "output_type": "execute_result"
    },
    {
     "data": {
      "image/png": "[encoded data removed]",
      "text/plain": [
       "<Figure size 432x288 with 1 Axes>"
      ]
     },
     "metadata": {
      "needs_background": "light"
     },
     "output_type": "display_data"
    }
   ],
   "source": [
    "#Visualize the Null values\n",
    "sns.heatmap(df.isnull(), yticklabels = False, cbar = False, cmap=\"Blues\")"
   ]
  },
  {
   "cell_type": "code",
   "execution_count": 58,
   "metadata": {
    "scrolled": true
   },
   "outputs": [
    {
     "data": {
      "text/plain": [
       "<AxesSubplot:>"
      ]
     },
     "execution_count": 58,
     "metadata": {},
     "output_type": "execute_result"
    },
    {
     "data": {
      "image/png": "[encoded data removed]",
      "text/plain": [
       "<Figure size 432x288 with 2 Axes>"
      ]
     },
     "metadata": {
      "needs_background": "light"
     },
     "output_type": "display_data"
    }
   ],
   "source": [
    "#Understand how each columns are correlated. \n",
    "import seaborn as sns\n",
    "corr = df.corr()\n",
    "sns.heatmap(corr, \n",
    "            xticklabels=corr.columns.values,\n",
    "            yticklabels=corr.columns.values , cmap='RdYlBu')"
   ]
  },
  {
   "cell_type": "markdown",
   "metadata": {},
   "source": [
    "# 3. Data Preparation:"
   ]
  },
  {
   "cell_type": "markdown",
   "metadata": {},
   "source": [
    "Here we modify data to a state such that it is fit for analysis. "
   ]
  },
  {
   "cell_type": "markdown",
   "metadata": {},
   "source": [
    "### Data Cleaning, Manipulation and renaming categories"
   ]
  },
  {
   "cell_type": "markdown",
   "metadata": {},
   "source": []
  },
  {
   "cell_type": "code",
   "execution_count": 59,
   "metadata": {},
   "outputs": [],
   "source": [
    "#Recode categorical variabloes \n",
    "\n",
    "#There are 9 categories in EdLevel, reducing it to 5. \n",
    "df['EdLevel'].replace([\"Secondary school (e.g. American high school, German Realschule or Gymnasium, etc.)\",\n",
    "                       \"I never completed any formal education\", \"Primary/elementary school\" ],\n",
    "                         'High school or lesser',inplace = True)\n",
    "df['EdLevel'].replace([\"Bachelor’s degree (B.A., B.S., B.Eng., etc.)\"],\n",
    "                         'Bachelor’s degree',inplace = True)\n",
    "df['EdLevel'].replace([\"Master’s degree (M.A., M.S., M.Eng., MBA, etc.)\"],\n",
    "                         'Master’s degree',inplace = True)\n",
    "df['EdLevel'].replace([\"Some college/university study without earning a degree\",\"Associate degree (A.A., A.S., etc.)\" ],\n",
    "                         'Some college/Associate degree/Unfinished degree',inplace = True)\n",
    "df['EdLevel'].replace([\"Professional degree (JD, MD, etc.)\",\"Associate degree (A.A., A.S., etc.)\" ],\n",
    "                         'Master’s degree',inplace = True)\n",
    "df['EdLevel'].replace([\"Other doctoral degree (Ph.D., Ed.D., etc.)\" ],\n",
    "                         'Doctoral degree',inplace = True)\n",
    "df['EdLevel'].value_counts()\n",
    "\n",
    "\n",
    "#Converting categorical to Numeric\n",
    "#Recoding 'Less than 1 year' to 1, and 'More than 50 years' to 50\n",
    "df['YearsCode'] = df['YearsCode'].replace('Less than 1 year', '1')\n",
    "df['YearsCode'] = df['YearsCode'].replace('More than 50 years', '50')\n",
    "df['YearsCode'] = pd.to_numeric(df['YearsCode'], errors = 'coerce')\n",
    "\n",
    "\n",
    "#Reducing the no of categories in gender. \n",
    "#recoding gender options other than Man and Women as LGBTQ+\n",
    "df[\"Gender\"].replace([\"Non-binary, genderqueer, or gender non-conforming\",\n",
    "                       \"Man;Non-binary, genderqueer, or gender non-conforming\", \n",
    "                      \"Woman;Non-binary, genderqueer, or gender non-conforming\" ,\"Woman;Man;Non-binary, genderqueer, or gender non-conforming\" , 'Woman;Man'],\n",
    "                         'LGBTQ+',inplace = True)"
   ]
  },
  {
   "cell_type": "code",
   "execution_count": 60,
   "metadata": {},
   "outputs": [
    {
     "name": "stdout",
     "output_type": "stream",
     "text": [
      "Bachelor’s degree                                  23954\n",
      "Master’s degree                                    13218\n",
      "Some college/Associate degree/Unfinished degree     7166\n",
      "High school or lesser                               2799\n",
      "Doctoral degree                                     1607\n",
      "Name: EdLevel, dtype: int64\n",
      " \n",
      "Man       38969\n",
      "Woman      3184\n",
      "LGBTQ+      544\n",
      "Name: Gender, dtype: int64\n"
     ]
    }
   ],
   "source": [
    "#Now we have lesser categories for each of these columns. \n",
    "\n",
    "print(df['EdLevel'].value_counts())\n",
    "print(\" \")\n",
    "print(df[\"Gender\"].value_counts())"
   ]
  },
  {
   "cell_type": "code",
   "execution_count": 61,
   "metadata": {},
   "outputs": [],
   "source": [
    "#Filter out the top 10 countries in terms of respondents and make a new dataframe.\n",
    "df_top10 = df[df['Country'].isin([\"United States\",\"India\", \"United Kingdom\",\"Germany\",\"Canada\",\n",
    "              \"France\",\"Brazil\",\"Netherlands\",\"Poland\",\"Australia\"])]\n",
    "\n",
    "#Create a seperate dataframe for respondents from India and US \n",
    "df_US_Ind = df[df['Country'].isin([\"United States\",\"India\"])]\n",
    "df_US_Ind['Country'].value_counts()\n",
    "\n",
    "\n",
    "#For Our analysis, we are going to compare respondends from India and US\n",
    "df_us = df_US_Ind[df_US_Ind['Country']== 'United States']\n",
    "df_ind = df_US_Ind[df_US_Ind['Country']== 'India']\n"
   ]
  },
  {
   "cell_type": "markdown",
   "metadata": {},
   "source": [
    "# 4. Data Analytics and Insights"
   ]
  },
  {
   "cell_type": "markdown",
   "metadata": {},
   "source": [
    "### Countries with top 10 most respondents"
   ]
  },
  {
   "cell_type": "code",
   "execution_count": 62,
   "metadata": {},
   "outputs": [
    {
     "name": "stdout",
     "output_type": "stream",
     "text": [
      "\n"
     ]
    },
    {
     "data": {
      "text/plain": [
       "Text(0, 0.5, '')"
      ]
     },
     "execution_count": 62,
     "metadata": {},
     "output_type": "execute_result"
    },
    {
     "data": {
      "image/png": "[encoded data removed]",
      "text/plain": [
       "<Figure size 864x288 with 1 Axes>"
      ]
     },
     "metadata": {
      "needs_background": "light"
     },
     "output_type": "display_data"
    }
   ],
   "source": [
    "# Bar Chart to indicate the distribution of respondents per country\n",
    "plt.figure(figsize=[12,4])\n",
    "sns.countplot(x =\"Country\", data = df_top10, order = df_top10['Country'].value_counts().index , \n",
    "              palette = sns.color_palette(\"Set2\", 10)).set_title(\"Top 10 countries with highest respondents\")\n",
    "print(\"\")\n",
    "plt.xlabel(\"\")\n",
    "plt.ylabel(\"\")"
   ]
  },
  {
   "cell_type": "code",
   "execution_count": 63,
   "metadata": {},
   "outputs": [
    {
     "name": "stdout",
     "output_type": "stream",
     "text": [
      "                 Country\n",
      "United States   0.203515\n",
      "India           0.123223\n",
      "United Kingdom  0.064980\n",
      "Germany         0.061806\n",
      "Canada          0.034708\n",
      "Brazil          0.030049\n",
      "France          0.029901\n",
      "Netherlands     0.021252\n",
      "Poland          0.020008\n",
      "Australia       0.019915\n"
     ]
    }
   ],
   "source": [
    "#Propotion of respondends per country\n",
    "df_P = df['Country'].value_counts()/(df.shape[0])\n",
    "df_P = pd.DataFrame(df_P)\n",
    "df_P = df_P.head(10)\n",
    "print(df_P)"
   ]
  },
  {
   "cell_type": "markdown",
   "metadata": {},
   "source": [
    "## 4.1: How different is the median salary in the USA and India?"
   ]
  },
  {
   "cell_type": "code",
   "execution_count": 64,
   "metadata": {},
   "outputs": [],
   "source": [
    "#Calculate Median Income and Median years of coding experience\n",
    "\n",
    "'''\n",
    "Create a dataframe with the following columns:\n",
    "\n",
    "   1. Country Name\n",
    "   2. Total counts\n",
    "   3. Median Salary\n",
    "   4. Median years of coding experience.\n",
    "   \n",
    "For this, we will create individual dataframe for each of the columns and then merge \n",
    "into a single dataframe with all columns.\n",
    "\n",
    "'''\n",
    "\n",
    "aa = pd.DataFrame(df['Country'].value_counts())\n",
    "aa.rename_axis('Country')\n",
    "aa.rename(columns = {'Country': 'Pop'})\n",
    "bb = pd.DataFrame(df.groupby(['Country'])['ConvertedComp'].median())\n",
    "cc = pd.DataFrame(df.groupby(['Country'])['YearsCode'].median())\n",
    "cc.reset_index(inplace = True)\n",
    "dd =aa.merge(bb , left_on = aa.index, right_on = bb.index)\n",
    "ff =cc.merge(dd , left_on = 'Country', right_on = 'key_0')\n",
    "\n",
    "ff.dropna()\n",
    "\n",
    "#Rename column names\n",
    "ff = ff.rename(columns = {'ConvertedComp':'Median Income'})\n",
    "ff = ff.rename(columns = {'Country_y':'No of respondents'})\n",
    "ff = ff.rename(columns = {'YearsCode':'Years of coding experience'})\n",
    "ff = ff.rename(columns = {'key_0':'Country List'})\n",
    "\n",
    "\n",
    "ff['Country_x'] = ff[(ff['Country List']== 'India') | (ff['Country List']== 'United States')]['Country List']\n",
    "ff['Country_x'] = ff['Country_x'].fillna('Other Countries')\n",
    "ff = ff.rename(columns = {'Country_x':'Country'})"
   ]
  },
  {
   "cell_type": "code",
   "execution_count": 65,
   "metadata": {
    "scrolled": false
   },
   "outputs": [
    {
     "data": {
      "application/vnd.plotly.v1+json": {
       "config": {
        "plotlyServerURL": "https://plot.ly"
       },
       "data": [
        {
         "hovertemplate": "<b>%{hovertext}</b><br><br>Country=Other Countries<br>Median Income=%{x}<br>Years of coding experience=%{y}<br>No of respondents=%{marker.size}<extra></extra>",
         "hovertext": [
          "Afghanistan",
          "Albania",
          "Algeria",
          "Andorra",
          "Angola",
          "Antigua and Barbuda",
          "Argentina",
          "Armenia",
          "Australia",
          "Austria",
          "Azerbaijan",
          "Bahamas",
          "Bahrain",
          "Bangladesh",
          "Barbados",
          "Belarus",
          "Belgium",
          "Belize",
          "Benin",
          "Bhutan",
          "Bolivia",
          "Bosnia and Herzegovina",
          "Botswana",
          "Brazil",
          "Brunei Darussalam",
          "Bulgaria",
          "Burkina Faso",
          "Burundi",
          "Cambodia",
          "Cameroon",
          "Canada",
          "Cape Verde",
          "Chad",
          "Chile",
          "China",
          "Colombia",
          "Congo, Republic of the...",
          "Costa Rica",
          "Croatia",
          "Cuba",
          "Cyprus",
          "Czech Republic",
          "Côte d'Ivoire",
          "Democratic Republic of the Congo",
          "Denmark",
          "Djibouti",
          "Dominican Republic",
          "Ecuador",
          "Egypt",
          "El Salvador",
          "Eritrea",
          "Estonia",
          "Ethiopia",
          "Fiji",
          "Finland",
          "France",
          "Gambia",
          "Georgia",
          "Germany",
          "Ghana",
          "Greece",
          "Grenada",
          "Guatemala",
          "Guinea",
          "Guyana",
          "Haiti",
          "Honduras",
          "Hong Kong (S.A.R.)",
          "Hungary",
          "Iceland",
          "Indonesia",
          "Iran",
          "Iraq",
          "Ireland",
          "Isle of Man",
          "Israel",
          "Italy",
          "Jamaica",
          "Japan",
          "Jordan",
          "Kazakhstan",
          "Kenya",
          "Kiribati",
          "Kosovo",
          "Kuwait",
          "Kyrgyzstan",
          "Lao People's Democratic Republic",
          "Latvia",
          "Lebanon",
          "Lesotho",
          "Libyan Arab Jamahiriya",
          "Liechtenstein",
          "Lithuania",
          "Luxembourg",
          "Madagascar",
          "Malawi",
          "Malaysia",
          "Maldives",
          "Mali",
          "Malta",
          "Mauritania",
          "Mauritius",
          "Mexico",
          "Micronesia, Federated States of...",
          "Monaco",
          "Mongolia",
          "Montenegro",
          "Morocco",
          "Mozambique",
          "Myanmar",
          "Namibia",
          "Nepal",
          "Netherlands",
          "New Zealand",
          "Nicaragua",
          "Niger",
          "Nigeria",
          "Nomadic",
          "North Korea",
          "Norway",
          "Oman",
          "Pakistan",
          "Panama",
          "Papua New Guinea",
          "Paraguay",
          "Peru",
          "Philippines",
          "Poland",
          "Portugal",
          "Qatar",
          "Republic of Korea",
          "Republic of Moldova",
          "Romania",
          "Russian Federation",
          "Rwanda",
          "Saint Vincent and the Grenadines",
          "San Marino",
          "Saudi Arabia",
          "Senegal",
          "Serbia",
          "Sierra Leone",
          "Singapore",
          "Slovakia",
          "Slovenia",
          "Somalia",
          "South Africa",
          "South Korea",
          "Spain",
          "Sri Lanka",
          "Sudan",
          "Swaziland",
          "Sweden",
          "Switzerland",
          "Syrian Arab Republic",
          "Taiwan",
          "Tajikistan",
          "Thailand",
          "The former Yugoslav Republic of Macedonia",
          "Timor-Leste",
          "Togo",
          "Trinidad and Tobago",
          "Tunisia",
          "Turkey",
          "Turkmenistan",
          "Uganda",
          "Ukraine",
          "United Arab Emirates",
          "United Kingdom",
          "United Republic of Tanzania",
          "Uruguay",
          "Uzbekistan",
          "Venezuela, Bolivarian Republic of...",
          "Viet Nam",
          "Yemen",
          "Zambia",
          "Zimbabwe"
         ],
         "legendgroup": "Other Countries",
         "marker": {
          "color": "#636efa",
          "size": [
           55,
           39,
           55,
           12,
           6,
           2,
           342,
           58,
           1073,
           444,
           39,
           2,
           8,
           415,
           3,
           116,
           395,
           1,
           5,
           6,
           36,
           73,
           5,
           1619,
           3,
           269,
           3,
           1,
           21,
           26,
           1870,
           1,
           1,
           159,
           255,
           249,
           4,
           62,
           155,
           19,
           44,
           420,
           11,
           6,
           350,
           1,
           66,
           44,
           190,
           24,
           1,
           134,
           36,
           1,
           312,
           1611,
           2,
           51,
           3330,
           56,
           312,
           1,
           43,
           5,
           3,
           4,
           17,
           87,
           318,
           47,
           335,
           425,
           33,
           395,
           8,
           566,
           960,
           10,
           275,
           47,
           48,
           148,
           1,
           29,
           15,
           14,
           7,
           95,
           56,
           1,
           6,
           1,
           150,
           36,
           16,
           6,
           177,
           8,
           1,
           42,
           2,
           14,
           466,
           1,
           1,
           8,
           11,
           101,
           5,
           31,
           5,
           169,
           1145,
           299,
           31,
           5,
           346,
           28,
           1,
           329,
           6,
           605,
           17,
           1,
           25,
           83,
           305,
           1078,
           333,
           18,
           70,
           42,
           517,
           947,
           20,
           1,
           2,
           63,
           16,
           238,
           1,
           189,
           161,
           131,
           13,
           418,
           156,
           1042,
           225,
           21,
           5,
           760,
           555,
           9,
           129,
           2,
           108,
           30,
           1,
           7,
           7,
           79,
           638,
           4,
           54,
           477,
           99,
           3501,
           25,
           90,
           29,
           54,
           242,
           4,
           14,
           23
          ],
          "sizemode": "area",
          "sizeref": 1.3537037037037036,
          "symbol": "circle"
         },
         "mode": "markers",
         "name": "Other Countries",
         "orientation": "v",
         "showlegend": true,
         "type": "scatter",
         "x": [
          15163.5,
          15900,
          9432,
          88640,
          5292,
          null,
          17520,
          21066,
          76831,
          51888,
          11988,
          86706,
          40196,
          7068,
          25074,
          27600,
          45396,
          49600,
          45281.5,
          11207,
          8676,
          21522,
          16092,
          17184,
          2580,
          29832,
          3960,
          null,
          8082,
          3532,
          68068,
          null,
          null,
          22584,
          35861.5,
          17652,
          null,
          42000,
          28457,
          7788,
          38916,
          38976,
          12360,
          11898,
          81624,
          null,
          16002,
          18102,
          8460,
          15300,
          null,
          38916,
          3756,
          19777,
          57506,
          46482,
          null,
          20142,
          62697,
          8544,
          24517,
          15540,
          18876,
          5472,
          12660,
          10000,
          19308,
          71717,
          28860,
          80424,
          7908,
          15672,
          18372,
          75669,
          37808.5,
          98064,
          35399,
          22685,
          53957,
          21156,
          12744,
          10680,
          null,
          15564,
          44622,
          10308,
          69927,
          25944,
          22320,
          24,
          null,
          null,
          36324,
          75669,
          9080,
          26220,
          15276,
          13980,
          null,
          45941.5,
          6816,
          13452,
          20688,
          null,
          24756,
          9366,
          29184,
          12324,
          null,
          4968,
          28560,
          6300,
          58368,
          63890,
          12192,
          4944,
          6588,
          93000,
          null,
          80922,
          35034,
          6342,
          22200,
          null,
          16548,
          13068.5,
          8292,
          33408,
          28861,
          46140,
          44434,
          15648,
          29922,
          28304,
          10224,
          27180,
          43239.5,
          47988,
          9582,
          27528,
          null,
          57372,
          37620,
          37620,
          7200,
          37494,
          40242.5,
          38915,
          8568,
          2526,
          6414,
          54000,
          98599,
          2916,
          33142,
          null,
          23064,
          14136,
          null,
          11472,
          21936,
          7992,
          17748,
          50000,
          11136,
          30000,
          37620,
          67215,
          13846,
          37824,
          14760,
          3600,
          10344,
          36000,
          5452,
          7200
         ],
         "xaxis": "x",
         "y": [
          5.5,
          6.5,
          7,
          22,
          8.5,
          null,
          12,
          8,
          16,
          13,
          7,
          9,
          11.5,
          6,
          11,
          10,
          13,
          12,
          10,
          5.5,
          10,
          10,
          10,
          10,
          5,
          11,
          20,
          null,
          6,
          6.5,
          13,
          7,
          4,
          11,
          9,
          11,
          7,
          10,
          12,
          12,
          14,
          14,
          7.5,
          9,
          14,
          15,
          9,
          10,
          7,
          14,
          10,
          10,
          6.5,
          6,
          14,
          12,
          4,
          8,
          14,
          6.5,
          13,
          9,
          13,
          5,
          6,
          5,
          10,
          12,
          13,
          12,
          7,
          9,
          7,
          11,
          12,
          12,
          15,
          10,
          12,
          8,
          10,
          6,
          null,
          8,
          11,
          5.5,
          7.5,
          10,
          7,
          10,
          4.5,
          25,
          10,
          18,
          8,
          4,
          8,
          11,
          null,
          15,
          8,
          9,
          10,
          null,
          10,
          10,
          12,
          6.5,
          6,
          6,
          13,
          6.5,
          14,
          15,
          10,
          5,
          6,
          13,
          null,
          15,
          5,
          7,
          8.5,
          20,
          10,
          8,
          8,
          11,
          12,
          9.5,
          10,
          8,
          12,
          13,
          7,
          6,
          25.5,
          9,
          6,
          11,
          9,
          10,
          13,
          15,
          7,
          12,
          8,
          12,
          8,
          6,
          15,
          15,
          14,
          9,
          10,
          7,
          11,
          10,
          null,
          10,
          8,
          8,
          10,
          6,
          6,
          10,
          10,
          14,
          6,
          12,
          5,
          9,
          6,
          9,
          5,
          7
         ],
         "yaxis": "y"
        },
        {
         "hovertemplate": "<b>%{hovertext}</b><br><br>Country=India<br>Median Income=%{x}<br>Years of coding experience=%{y}<br>No of respondents=%{marker.size}<extra></extra>",
         "hovertext": [
          "India"
         ],
         "legendgroup": "India",
         "marker": {
          "color": "#EF553B",
          "size": [
           6639
          ],
          "sizemode": "area",
          "sizeref": 1.3537037037037036,
          "symbol": "circle"
         },
         "mode": "markers",
         "name": "India",
         "orientation": "v",
         "showlegend": true,
         "type": "scatter",
         "x": [
          10056
         ],
         "xaxis": "x",
         "y": [
          8
         ],
         "yaxis": "y"
        },
        {
         "hovertemplate": "<b>%{hovertext}</b><br><br>Country=United States<br>Median Income=%{x}<br>Years of coding experience=%{y}<br>No of respondents=%{marker.size}<extra></extra>",
         "hovertext": [
          "United States"
         ],
         "legendgroup": "United States",
         "marker": {
          "color": "#00cc96",
          "size": [
           10965
          ],
          "sizemode": "area",
          "sizeref": 1.3537037037037036,
          "symbol": "circle"
         },
         "mode": "markers",
         "name": "United States",
         "orientation": "v",
         "showlegend": true,
         "type": "scatter",
         "x": [
          115000
         ],
         "xaxis": "x",
         "y": [
          14
         ],
         "yaxis": "y"
        }
       ],
       "layout": {
        "height": 500,
        "legend": {
         "itemsizing": "constant",
         "title": {
          "text": "Country"
         },
         "tracegroupgap": 0
        },
        "margin": {
         "t": 60
        },
        "template": {
         "data": {
          "bar": [
           {
            "error_x": {
             "color": "#2a3f5f"
            },
            "error_y": {
             "color": "#2a3f5f"
            },
            "marker": {
             "line": {
              "color": "#E5ECF6",
              "width": 0.5
             }
            },
            "type": "bar"
           }
          ],
          "barpolar": [
           {
            "marker": {
             "line": {
              "color": "#E5ECF6",
              "width": 0.5
             }
            },
            "type": "barpolar"
           }
          ],
          "carpet": [
           {
            "aaxis": {
             "endlinecolor": "#2a3f5f",
             "gridcolor": "white",
             "linecolor": "white",
             "minorgridcolor": "white",
             "startlinecolor": "#2a3f5f"
            },
            "baxis": {
             "endlinecolor": "#2a3f5f",
             "gridcolor": "white",
             "linecolor": "white",
             "minorgridcolor": "white",
             "startlinecolor": "#2a3f5f"
            },
            "type": "carpet"
           }
          ],
          "choropleth": [
           {
            "colorbar": {
             "outlinewidth": 0,
             "ticks": ""
            },
            "type": "choropleth"
           }
          ],
          "contour": [
           {
            "colorbar": {
             "outlinewidth": 0,
             "ticks": ""
            },
            "colorscale": [
             [
              0,
              "#0d0887"
             ],
             [
              0.1111111111111111,
              "#46039f"
             ],
             [
              0.2222222222222222,
              "#7201a8"
             ],
             [
              0.3333333333333333,
              "#9c179e"
             ],
             [
              0.4444444444444444,
              "#bd3786"
             ],
             [
              0.5555555555555556,
              "#d8576b"
             ],
             [
              0.6666666666666666,
              "#ed7953"
             ],
             [
              0.7777777777777778,
              "#fb9f3a"
             ],
             [
              0.8888888888888888,
              "#fdca26"
             ],
             [
              1,
              "#f0f921"
             ]
            ],
            "type": "contour"
           }
          ],
          "contourcarpet": [
           {
            "colorbar": {
             "outlinewidth": 0,
             "ticks": ""
            },
            "type": "contourcarpet"
           }
          ],
          "heatmap": [
           {
            "colorbar": {
             "outlinewidth": 0,
             "ticks": ""
            },
            "colorscale": [
             [
              0,
              "#0d0887"
             ],
             [
              0.1111111111111111,
              "#46039f"
             ],
             [
              0.2222222222222222,
              "#7201a8"
             ],
             [
              0.3333333333333333,
              "#9c179e"
             ],
             [
              0.4444444444444444,
              "#bd3786"
             ],
             [
              0.5555555555555556,
              "#d8576b"
             ],
             [
              0.6666666666666666,
              "#ed7953"
             ],
             [
              0.7777777777777778,
              "#fb9f3a"
             ],
             [
              0.8888888888888888,
              "#fdca26"
             ],
             [
              1,
              "#f0f921"
             ]
            ],
            "type": "heatmap"
           }
          ],
          "heatmapgl": [
           {
            "colorbar": {
             "outlinewidth": 0,
             "ticks": ""
            },
            "colorscale": [
             [
              0,
              "#0d0887"
             ],
             [
              0.1111111111111111,
              "#46039f"
             ],
             [
              0.2222222222222222,
              "#7201a8"
             ],
             [
              0.3333333333333333,
              "#9c179e"
             ],
             [
              0.4444444444444444,
              "#bd3786"
             ],
             [
              0.5555555555555556,
              "#d8576b"
             ],
             [
              0.6666666666666666,
              "#ed7953"
             ],
             [
              0.7777777777777778,
              "#fb9f3a"
             ],
             [
              0.8888888888888888,
              "#fdca26"
             ],
             [
              1,
              "#f0f921"
             ]
            ],
            "type": "heatmapgl"
           }
          ],
          "histogram": [
           {
            "marker": {
             "colorbar": {
              "outlinewidth": 0,
              "ticks": ""
             }
            },
            "type": "histogram"
           }
          ],
          "histogram2d": [
           {
            "colorbar": {
             "outlinewidth": 0,
             "ticks": ""
            },
            "colorscale": [
             [
              0,
              "#0d0887"
             ],
             [
              0.1111111111111111,
              "#46039f"
             ],
             [
              0.2222222222222222,
              "#7201a8"
             ],
             [
              0.3333333333333333,
              "#9c179e"
             ],
             [
              0.4444444444444444,
              "#bd3786"
             ],
             [
              0.5555555555555556,
              "#d8576b"
             ],
             [
              0.6666666666666666,
              "#ed7953"
             ],
             [
              0.7777777777777778,
              "#fb9f3a"
             ],
             [
              0.8888888888888888,
              "#fdca26"
             ],
             [
              1,
              "#f0f921"
             ]
            ],
            "type": "histogram2d"
           }
          ],
          "histogram2dcontour": [
           {
            "colorbar": {
             "outlinewidth": 0,
             "ticks": ""
            },
            "colorscale": [
             [
              0,
              "#0d0887"
             ],
             [
              0.1111111111111111,
              "#46039f"
             ],
             [
              0.2222222222222222,
              "#7201a8"
             ],
             [
              0.3333333333333333,
              "#9c179e"
             ],
             [
              0.4444444444444444,
              "#bd3786"
             ],
             [
              0.5555555555555556,
              "#d8576b"
             ],
             [
              0.6666666666666666,
              "#ed7953"
             ],
             [
              0.7777777777777778,
              "#fb9f3a"
             ],
             [
              0.8888888888888888,
              "#fdca26"
             ],
             [
              1,
              "#f0f921"
             ]
            ],
            "type": "histogram2dcontour"
           }
          ],
          "mesh3d": [
           {
            "colorbar": {
             "outlinewidth": 0,
             "ticks": ""
            },
            "type": "mesh3d"
           }
          ],
          "parcoords": [
           {
            "line": {
             "colorbar": {
              "outlinewidth": 0,
              "ticks": ""
             }
            },
            "type": "parcoords"
           }
          ],
          "pie": [
           {
            "automargin": true,
            "type": "pie"
           }
          ],
          "scatter": [
           {
            "marker": {
             "colorbar": {
              "outlinewidth": 0,
              "ticks": ""
             }
            },
            "type": "scatter"
           }
          ],
          "scatter3d": [
           {
            "line": {
             "colorbar": {
              "outlinewidth": 0,
              "ticks": ""
             }
            },
            "marker": {
             "colorbar": {
              "outlinewidth": 0,
              "ticks": ""
             }
            },
            "type": "scatter3d"
           }
          ],
          "scattercarpet": [
           {
            "marker": {
             "colorbar": {
              "outlinewidth": 0,
              "ticks": ""
             }
            },
            "type": "scattercarpet"
           }
          ],
          "scattergeo": [
           {
            "marker": {
             "colorbar": {
              "outlinewidth": 0,
              "ticks": ""
             }
            },
            "type": "scattergeo"
           }
          ],
          "scattergl": [
           {
            "marker": {
             "colorbar": {
              "outlinewidth": 0,
              "ticks": ""
             }
            },
            "type": "scattergl"
           }
          ],
          "scattermapbox": [
           {
            "marker": {
             "colorbar": {
              "outlinewidth": 0,
              "ticks": ""
             }
            },
            "type": "scattermapbox"
           }
          ],
          "scatterpolar": [
           {
            "marker": {
             "colorbar": {
              "outlinewidth": 0,
              "ticks": ""
             }
            },
            "type": "scatterpolar"
           }
          ],
          "scatterpolargl": [
           {
            "marker": {
             "colorbar": {
              "outlinewidth": 0,
              "ticks": ""
             }
            },
            "type": "scatterpolargl"
           }
          ],
          "scatterternary": [
           {
            "marker": {
             "colorbar": {
              "outlinewidth": 0,
              "ticks": ""
             }
            },
            "type": "scatterternary"
           }
          ],
          "surface": [
           {
            "colorbar": {
             "outlinewidth": 0,
             "ticks": ""
            },
            "colorscale": [
             [
              0,
              "#0d0887"
             ],
             [
              0.1111111111111111,
              "#46039f"
             ],
             [
              0.2222222222222222,
              "#7201a8"
             ],
             [
              0.3333333333333333,
              "#9c179e"
             ],
             [
              0.4444444444444444,
              "#bd3786"
             ],
             [
              0.5555555555555556,
              "#d8576b"
             ],
             [
              0.6666666666666666,
              "#ed7953"
             ],
             [
              0.7777777777777778,
              "#fb9f3a"
             ],
             [
              0.8888888888888888,
              "#fdca26"
             ],
             [
              1,
              "#f0f921"
             ]
            ],
            "type": "surface"
           }
          ],
          "table": [
           {
            "cells": {
             "fill": {
              "color": "#EBF0F8"
             },
             "line": {
              "color": "white"
             }
            },
            "header": {
             "fill": {
              "color": "#C8D4E3"
             },
             "line": {
              "color": "white"
             }
            },
            "type": "table"
           }
          ]
         },
         "layout": {
          "annotationdefaults": {
           "arrowcolor": "#2a3f5f",
           "arrowhead": 0,
           "arrowwidth": 1
          },
          "autotypenumbers": "strict",
          "coloraxis": {
           "colorbar": {
            "outlinewidth": 0,
            "ticks": ""
           }
          },
          "colorscale": {
           "diverging": [
            [
             0,
             "#8e0152"
            ],
            [
             0.1,
             "#c51b7d"
            ],
            [
             0.2,
             "#de77ae"
            ],
            [
             0.3,
             "#f1b6da"
            ],
            [
             0.4,
             "#fde0ef"
            ],
            [
             0.5,
             "#f7f7f7"
            ],
            [
             0.6,
             "#e6f5d0"
            ],
            [
             0.7,
             "#b8e186"
            ],
            [
             0.8,
             "#7fbc41"
            ],
            [
             0.9,
             "#4d9221"
            ],
            [
             1,
             "#276419"
            ]
           ],
           "sequential": [
            [
             0,
             "#0d0887"
            ],
            [
             0.1111111111111111,
             "#46039f"
            ],
            [
             0.2222222222222222,
             "#7201a8"
            ],
            [
             0.3333333333333333,
             "#9c179e"
            ],
            [
             0.4444444444444444,
             "#bd3786"
            ],
            [
             0.5555555555555556,
             "#d8576b"
            ],
            [
             0.6666666666666666,
             "#ed7953"
            ],
            [
             0.7777777777777778,
             "#fb9f3a"
            ],
            [
             0.8888888888888888,
             "#fdca26"
            ],
            [
             1,
             "#f0f921"
            ]
           ],
           "sequentialminus": [
            [
             0,
             "#0d0887"
            ],
            [
             0.1111111111111111,
             "#46039f"
            ],
            [
             0.2222222222222222,
             "#7201a8"
            ],
            [
             0.3333333333333333,
             "#9c179e"
            ],
            [
             0.4444444444444444,
             "#bd3786"
            ],
            [
             0.5555555555555556,
             "#d8576b"
            ],
            [
             0.6666666666666666,
             "#ed7953"
            ],
            [
             0.7777777777777778,
             "#fb9f3a"
            ],
            [
             0.8888888888888888,
             "#fdca26"
            ],
            [
             1,
             "#f0f921"
            ]
           ]
          },
          "colorway": [
           "#636efa",
           "#EF553B",
           "#00cc96",
           "#ab63fa",
           "#FFA15A",
           "#19d3f3",
           "#FF6692",
           "#B6E880",
           "#FF97FF",
           "#FECB52"
          ],
          "font": {
           "color": "#2a3f5f"
          },
          "geo": {
           "bgcolor": "white",
           "lakecolor": "white",
           "landcolor": "#E5ECF6",
           "showlakes": true,
           "showland": true,
           "subunitcolor": "white"
          },
          "hoverlabel": {
           "align": "left"
          },
          "hovermode": "closest",
          "mapbox": {
           "style": "light"
          },
          "paper_bgcolor": "white",
          "plot_bgcolor": "#E5ECF6",
          "polar": {
           "angularaxis": {
            "gridcolor": "white",
            "linecolor": "white",
            "ticks": ""
           },
           "bgcolor": "#E5ECF6",
           "radialaxis": {
            "gridcolor": "white",
            "linecolor": "white",
            "ticks": ""
           }
          },
          "scene": {
           "xaxis": {
            "backgroundcolor": "#E5ECF6",
            "gridcolor": "white",
            "gridwidth": 2,
            "linecolor": "white",
            "showbackground": true,
            "ticks": "",
            "zerolinecolor": "white"
           },
           "yaxis": {
            "backgroundcolor": "#E5ECF6",
            "gridcolor": "white",
            "gridwidth": 2,
            "linecolor": "white",
            "showbackground": true,
            "ticks": "",
            "zerolinecolor": "white"
           },
           "zaxis": {
            "backgroundcolor": "#E5ECF6",
            "gridcolor": "white",
            "gridwidth": 2,
            "linecolor": "white",
            "showbackground": true,
            "ticks": "",
            "zerolinecolor": "white"
           }
          },
          "shapedefaults": {
           "line": {
            "color": "#2a3f5f"
           }
          },
          "ternary": {
           "aaxis": {
            "gridcolor": "white",
            "linecolor": "white",
            "ticks": ""
           },
           "baxis": {
            "gridcolor": "white",
            "linecolor": "white",
            "ticks": ""
           },
           "bgcolor": "#E5ECF6",
           "caxis": {
            "gridcolor": "white",
            "linecolor": "white",
            "ticks": ""
           }
          },
          "title": {
           "x": 0.05
          },
          "xaxis": {
           "automargin": true,
           "gridcolor": "white",
           "linecolor": "white",
           "ticks": "",
           "title": {
            "standoff": 15
           },
           "zerolinecolor": "white",
           "zerolinewidth": 2
          },
          "yaxis": {
           "automargin": true,
           "gridcolor": "white",
           "linecolor": "white",
           "ticks": "",
           "title": {
            "standoff": 15
           },
           "zerolinecolor": "white",
           "zerolinewidth": 2
          }
         }
        },
        "width": 1700,
        "xaxis": {
         "anchor": "y",
         "domain": [
          0,
          1
         ],
         "title": {
          "text": "Median Income"
         }
        },
        "yaxis": {
         "anchor": "x",
         "domain": [
          0,
          1
         ],
         "title": {
          "text": "Years of coding experience"
         }
        }
       }
      },
      "text/html": [
       "<div>                            <div id=\"c042dc6b-43df-45c4-8ae9-14bf889791a7\" class=\"plotly-graph-div\" style=\"height:500px; width:1700px;\"></div>            <script type=\"text/javascript\">                require([\"plotly\"], function(Plotly) {                    window.PLOTLYENV=window.PLOTLYENV || {};                                    if (document.getElementById(\"c042dc6b-43df-45c4-8ae9-14bf889791a7\")) {                    Plotly.newPlot(                        \"c042dc6b-43df-45c4-8ae9-14bf889791a7\",                        [{\"hovertemplate\": \"<b>%{hovertext}</b><br><br>Country=Other Countries<br>Median Income=%{x}<br>Years of coding experience=%{y}<br>No of respondents=%{marker.size}<extra></extra>\", \"hovertext\": [\"Afghanistan\", \"Albania\", \"Algeria\", \"Andorra\", \"Angola\", \"Antigua and Barbuda\", \"Argentina\", \"Armenia\", \"Australia\", \"Austria\", \"Azerbaijan\", \"Bahamas\", \"Bahrain\", \"Bangladesh\", \"Barbados\", \"Belarus\", \"Belgium\", \"Belize\", \"Benin\", \"Bhutan\", \"Bolivia\", \"Bosnia and Herzegovina\", \"Botswana\", \"Brazil\", \"Brunei Darussalam\", \"Bulgaria\", \"Burkina Faso\", \"Burundi\", \"Cambodia\", \"Cameroon\", \"Canada\", \"Cape Verde\", \"Chad\", \"Chile\", \"China\", \"Colombia\", \"Congo, Republic of the...\", \"Costa Rica\", \"Croatia\", \"Cuba\", \"Cyprus\", \"Czech Republic\", \"C\\u00f4te d'Ivoire\", \"Democratic Republic of the Congo\", \"Denmark\", \"Djibouti\", \"Dominican Republic\", \"Ecuador\", \"Egypt\", \"El Salvador\", \"Eritrea\", \"Estonia\", \"Ethiopia\", \"Fiji\", \"Finland\", \"France\", \"Gambia\", \"Georgia\", \"Germany\", \"Ghana\", \"Greece\", \"Grenada\", \"Guatemala\", \"Guinea\", \"Guyana\", \"Haiti\", \"Honduras\", \"Hong Kong (S.A.R.)\", \"Hungary\", \"Iceland\", \"Indonesia\", \"Iran\", \"Iraq\", \"Ireland\", \"Isle of Man\", \"Israel\", \"Italy\", \"Jamaica\", \"Japan\", \"Jordan\", \"Kazakhstan\", \"Kenya\", \"Kiribati\", \"Kosovo\", \"Kuwait\", \"Kyrgyzstan\", \"Lao People's Democratic Republic\", \"Latvia\", \"Lebanon\", \"Lesotho\", \"Libyan Arab Jamahiriya\", \"Liechtenstein\", \"Lithuania\", \"Luxembourg\", \"Madagascar\", \"Malawi\", \"Malaysia\", \"Maldives\", \"Mali\", \"Malta\", \"Mauritania\", \"Mauritius\", \"Mexico\", \"Micronesia, Federated States of...\", \"Monaco\", \"Mongolia\", \"Montenegro\", \"Morocco\", \"Mozambique\", \"Myanmar\", \"Namibia\", \"Nepal\", \"Netherlands\", \"New Zealand\", \"Nicaragua\", \"Niger\", \"Nigeria\", \"Nomadic\", \"North Korea\", \"Norway\", \"Oman\", \"Pakistan\", \"Panama\", \"Papua New Guinea\", \"Paraguay\", \"Peru\", \"Philippines\", \"Poland\", \"Portugal\", \"Qatar\", \"Republic of Korea\", \"Republic of Moldova\", \"Romania\", \"Russian Federation\", \"Rwanda\", \"Saint Vincent and the Grenadines\", \"San Marino\", \"Saudi Arabia\", \"Senegal\", \"Serbia\", \"Sierra Leone\", \"Singapore\", \"Slovakia\", \"Slovenia\", \"Somalia\", \"South Africa\", \"South Korea\", \"Spain\", \"Sri Lanka\", \"Sudan\", \"Swaziland\", \"Sweden\", \"Switzerland\", \"Syrian Arab Republic\", \"Taiwan\", \"Tajikistan\", \"Thailand\", \"The former Yugoslav Republic of Macedonia\", \"Timor-Leste\", \"Togo\", \"Trinidad and Tobago\", \"Tunisia\", \"Turkey\", \"Turkmenistan\", \"Uganda\", \"Ukraine\", \"United Arab Emirates\", \"United Kingdom\", \"United Republic of Tanzania\", \"Uruguay\", \"Uzbekistan\", \"Venezuela, Bolivarian Republic of...\", \"Viet Nam\", \"Yemen\", \"Zambia\", \"Zimbabwe\"], \"legendgroup\": \"Other Countries\", \"marker\": {\"color\": \"#636efa\", \"size\": [55, 39, 55, 12, 6, 2, 342, 58, 1073, 444, 39, 2, 8, 415, 3, 116, 395, 1, 5, 6, 36, 73, 5, 1619, 3, 269, 3, 1, 21, 26, 1870, 1, 1, 159, 255, 249, 4, 62, 155, 19, 44, 420, 11, 6, 350, 1, 66, 44, 190, 24, 1, 134, 36, 1, 312, 1611, 2, 51, 3330, 56, 312, 1, 43, 5, 3, 4, 17, 87, 318, 47, 335, 425, 33, 395, 8, 566, 960, 10, 275, 47, 48, 148, 1, 29, 15, 14, 7, 95, 56, 1, 6, 1, 150, 36, 16, 6, 177, 8, 1, 42, 2, 14, 466, 1, 1, 8, 11, 101, 5, 31, 5, 169, 1145, 299, 31, 5, 346, 28, 1, 329, 6, 605, 17, 1, 25, 83, 305, 1078, 333, 18, 70, 42, 517, 947, 20, 1, 2, 63, 16, 238, 1, 189, 161, 131, 13, 418, 156, 1042, 225, 21, 5, 760, 555, 9, 129, 2, 108, 30, 1, 7, 7, 79, 638, 4, 54, 477, 99, 3501, 25, 90, 29, 54, 242, 4, 14, 23], \"sizemode\": \"area\", \"sizeref\": 1.3537037037037036, \"symbol\": \"circle\"}, \"mode\": \"markers\", \"name\": \"Other Countries\", \"orientation\": \"v\", \"showlegend\": true, \"type\": \"scatter\", \"x\": [15163.5, 15900.0, 9432.0, 88640.0, 5292.0, null, 17520.0, 21066.0, 76831.0, 51888.0, 11988.0, 86706.0, 40196.0, 7068.0, 25074.0, 27600.0, 45396.0, 49600.0, 45281.5, 11207.0, 8676.0, 21522.0, 16092.0, 17184.0, 2580.0, 29832.0, 3960.0, null, 8082.0, 3532.0, 68068.0, null, null, 22584.0, 35861.5, 17652.0, null, 42000.0, 28457.0, 7788.0, 38916.0, 38976.0, 12360.0, 11898.0, 81624.0, null, 16002.0, 18102.0, 8460.0, 15300.0, null, 38916.0, 3756.0, 19777.0, 57506.0, 46482.0, null, 20142.0, 62697.0, 8544.0, 24517.0, 15540.0, 18876.0, 5472.0, 12660.0, 10000.0, 19308.0, 71717.0, 28860.0, 80424.0, 7908.0, 15672.0, 18372.0, 75669.0, 37808.5, 98064.0, 35399.0, 22685.0, 53957.0, 21156.0, 12744.0, 10680.0, null, 15564.0, 44622.0, 10308.0, 69927.0, 25944.0, 22320.0, 24.0, null, null, 36324.0, 75669.0, 9080.0, 26220.0, 15276.0, 13980.0, null, 45941.5, 6816.0, 13452.0, 20688.0, null, 24756.0, 9366.0, 29184.0, 12324.0, null, 4968.0, 28560.0, 6300.0, 58368.0, 63890.0, 12192.0, 4944.0, 6588.0, 93000.0, null, 80922.0, 35034.0, 6342.0, 22200.0, null, 16548.0, 13068.5, 8292.0, 33408.0, 28861.0, 46140.0, 44434.0, 15648.0, 29922.0, 28304.0, 10224.0, 27180.0, 43239.5, 47988.0, 9582.0, 27528.0, null, 57372.0, 37620.0, 37620.0, 7200.0, 37494.0, 40242.5, 38915.0, 8568.0, 2526.0, 6414.0, 54000.0, 98599.0, 2916.0, 33142.0, null, 23064.0, 14136.0, null, 11472.0, 21936.0, 7992.0, 17748.0, 50000.0, 11136.0, 30000.0, 37620.0, 67215.0, 13846.0, 37824.0, 14760.0, 3600.0, 10344.0, 36000.0, 5452.0, 7200.0], \"xaxis\": \"x\", \"y\": [5.5, 6.5, 7.0, 22.0, 8.5, null, 12.0, 8.0, 16.0, 13.0, 7.0, 9.0, 11.5, 6.0, 11.0, 10.0, 13.0, 12.0, 10.0, 5.5, 10.0, 10.0, 10.0, 10.0, 5.0, 11.0, 20.0, null, 6.0, 6.5, 13.0, 7.0, 4.0, 11.0, 9.0, 11.0, 7.0, 10.0, 12.0, 12.0, 14.0, 14.0, 7.5, 9.0, 14.0, 15.0, 9.0, 10.0, 7.0, 14.0, 10.0, 10.0, 6.5, 6.0, 14.0, 12.0, 4.0, 8.0, 14.0, 6.5, 13.0, 9.0, 13.0, 5.0, 6.0, 5.0, 10.0, 12.0, 13.0, 12.0, 7.0, 9.0, 7.0, 11.0, 12.0, 12.0, 15.0, 10.0, 12.0, 8.0, 10.0, 6.0, null, 8.0, 11.0, 5.5, 7.5, 10.0, 7.0, 10.0, 4.5, 25.0, 10.0, 18.0, 8.0, 4.0, 8.0, 11.0, null, 15.0, 8.0, 9.0, 10.0, null, 10.0, 10.0, 12.0, 6.5, 6.0, 6.0, 13.0, 6.5, 14.0, 15.0, 10.0, 5.0, 6.0, 13.0, null, 15.0, 5.0, 7.0, 8.5, 20.0, 10.0, 8.0, 8.0, 11.0, 12.0, 9.5, 10.0, 8.0, 12.0, 13.0, 7.0, 6.0, 25.5, 9.0, 6.0, 11.0, 9.0, 10.0, 13.0, 15.0, 7.0, 12.0, 8.0, 12.0, 8.0, 6.0, 15.0, 15.0, 14.0, 9.0, 10.0, 7.0, 11.0, 10.0, null, 10.0, 8.0, 8.0, 10.0, 6.0, 6.0, 10.0, 10.0, 14.0, 6.0, 12.0, 5.0, 9.0, 6.0, 9.0, 5.0, 7.0], \"yaxis\": \"y\"}, {\"hovertemplate\": \"<b>%{hovertext}</b><br><br>Country=India<br>Median Income=%{x}<br>Years of coding experience=%{y}<br>No of respondents=%{marker.size}<extra></extra>\", \"hovertext\": [\"India\"], \"legendgroup\": \"India\", \"marker\": {\"color\": \"#EF553B\", \"size\": [6639], \"sizemode\": \"area\", \"sizeref\": 1.3537037037037036, \"symbol\": \"circle\"}, \"mode\": \"markers\", \"name\": \"India\", \"orientation\": \"v\", \"showlegend\": true, \"type\": \"scatter\", \"x\": [10056.0], \"xaxis\": \"x\", \"y\": [8.0], \"yaxis\": \"y\"}, {\"hovertemplate\": \"<b>%{hovertext}</b><br><br>Country=United States<br>Median Income=%{x}<br>Years of coding experience=%{y}<br>No of respondents=%{marker.size}<extra></extra>\", \"hovertext\": [\"United States\"], \"legendgroup\": \"United States\", \"marker\": {\"color\": \"#00cc96\", \"size\": [10965], \"sizemode\": \"area\", \"sizeref\": 1.3537037037037036, \"symbol\": \"circle\"}, \"mode\": \"markers\", \"name\": \"United States\", \"orientation\": \"v\", \"showlegend\": true, \"type\": \"scatter\", \"x\": [115000.0], \"xaxis\": \"x\", \"y\": [14.0], \"yaxis\": \"y\"}],                        {\"height\": 500, \"legend\": {\"itemsizing\": \"constant\", \"title\": {\"text\": \"Country\"}, \"tracegroupgap\": 0}, \"margin\": {\"t\": 60}, \"template\": {\"data\": {\"bar\": [{\"error_x\": {\"color\": \"#2a3f5f\"}, \"error_y\": {\"color\": \"#2a3f5f\"}, \"marker\": {\"line\": {\"color\": \"#E5ECF6\", \"width\": 0.5}}, \"type\": \"bar\"}], \"barpolar\": [{\"marker\": {\"line\": {\"color\": \"#E5ECF6\", \"width\": 0.5}}, \"type\": \"barpolar\"}], \"carpet\": [{\"aaxis\": {\"endlinecolor\": \"#2a3f5f\", \"gridcolor\": \"white\", \"linecolor\": \"white\", \"minorgridcolor\": \"white\", \"startlinecolor\": \"#2a3f5f\"}, \"baxis\": {\"endlinecolor\": \"#2a3f5f\", \"gridcolor\": \"white\", \"linecolor\": \"white\", \"minorgridcolor\": \"white\", \"startlinecolor\": \"#2a3f5f\"}, \"type\": \"carpet\"}], \"choropleth\": [{\"colorbar\": {\"outlinewidth\": 0, \"ticks\": \"\"}, \"type\": \"choropleth\"}], \"contour\": [{\"colorbar\": {\"outlinewidth\": 0, \"ticks\": \"\"}, \"colorscale\": [[0.0, \"#0d0887\"], [0.1111111111111111, \"#46039f\"], [0.2222222222222222, \"#7201a8\"], [0.3333333333333333, \"#9c179e\"], [0.4444444444444444, \"#bd3786\"], [0.5555555555555556, \"#d8576b\"], [0.6666666666666666, \"#ed7953\"], [0.7777777777777778, \"#fb9f3a\"], [0.8888888888888888, \"#fdca26\"], [1.0, \"#f0f921\"]], \"type\": \"contour\"}], \"contourcarpet\": [{\"colorbar\": {\"outlinewidth\": 0, \"ticks\": \"\"}, \"type\": \"contourcarpet\"}], \"heatmap\": [{\"colorbar\": {\"outlinewidth\": 0, \"ticks\": \"\"}, \"colorscale\": [[0.0, \"#0d0887\"], [0.1111111111111111, \"#46039f\"], [0.2222222222222222, \"#7201a8\"], [0.3333333333333333, \"#9c179e\"], [0.4444444444444444, \"#bd3786\"], [0.5555555555555556, \"#d8576b\"], [0.6666666666666666, \"#ed7953\"], [0.7777777777777778, \"#fb9f3a\"], [0.8888888888888888, \"#fdca26\"], [1.0, \"#f0f921\"]], \"type\": \"heatmap\"}], \"heatmapgl\": [{\"colorbar\": {\"outlinewidth\": 0, \"ticks\": \"\"}, \"colorscale\": [[0.0, \"#0d0887\"], [0.1111111111111111, \"#46039f\"], [0.2222222222222222, \"#7201a8\"], [0.3333333333333333, \"#9c179e\"], [0.4444444444444444, \"#bd3786\"], [0.5555555555555556, \"#d8576b\"], [0.6666666666666666, \"#ed7953\"], [0.7777777777777778, \"#fb9f3a\"], [0.8888888888888888, \"#fdca26\"], [1.0, \"#f0f921\"]], \"type\": \"heatmapgl\"}], \"histogram\": [{\"marker\": {\"colorbar\": {\"outlinewidth\": 0, \"ticks\": \"\"}}, \"type\": \"histogram\"}], \"histogram2d\": [{\"colorbar\": {\"outlinewidth\": 0, \"ticks\": \"\"}, \"colorscale\": [[0.0, \"#0d0887\"], [0.1111111111111111, \"#46039f\"], [0.2222222222222222, \"#7201a8\"], [0.3333333333333333, \"#9c179e\"], [0.4444444444444444, \"#bd3786\"], [0.5555555555555556, \"#d8576b\"], [0.6666666666666666, \"#ed7953\"], [0.7777777777777778, \"#fb9f3a\"], [0.8888888888888888, \"#fdca26\"], [1.0, \"#f0f921\"]], \"type\": \"histogram2d\"}], \"histogram2dcontour\": [{\"colorbar\": {\"outlinewidth\": 0, \"ticks\": \"\"}, \"colorscale\": [[0.0, \"#0d0887\"], [0.1111111111111111, \"#46039f\"], [0.2222222222222222, \"#7201a8\"], [0.3333333333333333, \"#9c179e\"], [0.4444444444444444, \"#bd3786\"], [0.5555555555555556, \"#d8576b\"], [0.6666666666666666, \"#ed7953\"], [0.7777777777777778, \"#fb9f3a\"], [0.8888888888888888, \"#fdca26\"], [1.0, \"#f0f921\"]], \"type\": \"histogram2dcontour\"}], \"mesh3d\": [{\"colorbar\": {\"outlinewidth\": 0, \"ticks\": \"\"}, \"type\": \"mesh3d\"}], \"parcoords\": [{\"line\": {\"colorbar\": {\"outlinewidth\": 0, \"ticks\": \"\"}}, \"type\": \"parcoords\"}], \"pie\": [{\"automargin\": true, \"type\": \"pie\"}], \"scatter\": [{\"marker\": {\"colorbar\": {\"outlinewidth\": 0, \"ticks\": \"\"}}, \"type\": \"scatter\"}], \"scatter3d\": [{\"line\": {\"colorbar\": {\"outlinewidth\": 0, \"ticks\": \"\"}}, \"marker\": {\"colorbar\": {\"outlinewidth\": 0, \"ticks\": \"\"}}, \"type\": \"scatter3d\"}], \"scattercarpet\": [{\"marker\": {\"colorbar\": {\"outlinewidth\": 0, \"ticks\": \"\"}}, \"type\": \"scattercarpet\"}], \"scattergeo\": [{\"marker\": {\"colorbar\": {\"outlinewidth\": 0, \"ticks\": \"\"}}, \"type\": \"scattergeo\"}], \"scattergl\": [{\"marker\": {\"colorbar\": {\"outlinewidth\": 0, \"ticks\": \"\"}}, \"type\": \"scattergl\"}], \"scattermapbox\": [{\"marker\": {\"colorbar\": {\"outlinewidth\": 0, \"ticks\": \"\"}}, \"type\": \"scattermapbox\"}], \"scatterpolar\": [{\"marker\": {\"colorbar\": {\"outlinewidth\": 0, \"ticks\": \"\"}}, \"type\": \"scatterpolar\"}], \"scatterpolargl\": [{\"marker\": {\"colorbar\": {\"outlinewidth\": 0, \"ticks\": \"\"}}, \"type\": \"scatterpolargl\"}], \"scatterternary\": [{\"marker\": {\"colorbar\": {\"outlinewidth\": 0, \"ticks\": \"\"}}, \"type\": \"scatterternary\"}], \"surface\": [{\"colorbar\": {\"outlinewidth\": 0, \"ticks\": \"\"}, \"colorscale\": [[0.0, \"#0d0887\"], [0.1111111111111111, \"#46039f\"], [0.2222222222222222, \"#7201a8\"], [0.3333333333333333, \"#9c179e\"], [0.4444444444444444, \"#bd3786\"], [0.5555555555555556, \"#d8576b\"], [0.6666666666666666, \"#ed7953\"], [0.7777777777777778, \"#fb9f3a\"], [0.8888888888888888, \"#fdca26\"], [1.0, \"#f0f921\"]], \"type\": \"surface\"}], \"table\": [{\"cells\": {\"fill\": {\"color\": \"#EBF0F8\"}, \"line\": {\"color\": \"white\"}}, \"header\": {\"fill\": {\"color\": \"#C8D4E3\"}, \"line\": {\"color\": \"white\"}}, \"type\": \"table\"}]}, \"layout\": {\"annotationdefaults\": {\"arrowcolor\": \"#2a3f5f\", \"arrowhead\": 0, \"arrowwidth\": 1}, \"autotypenumbers\": \"strict\", \"coloraxis\": {\"colorbar\": {\"outlinewidth\": 0, \"ticks\": \"\"}}, \"colorscale\": {\"diverging\": [[0, \"#8e0152\"], [0.1, \"#c51b7d\"], [0.2, \"#de77ae\"], [0.3, \"#f1b6da\"], [0.4, \"#fde0ef\"], [0.5, \"#f7f7f7\"], [0.6, \"#e6f5d0\"], [0.7, \"#b8e186\"], [0.8, \"#7fbc41\"], [0.9, \"#4d9221\"], [1, \"#276419\"]], \"sequential\": [[0.0, \"#0d0887\"], [0.1111111111111111, \"#46039f\"], [0.2222222222222222, \"#7201a8\"], [0.3333333333333333, \"#9c179e\"], [0.4444444444444444, \"#bd3786\"], [0.5555555555555556, \"#d8576b\"], [0.6666666666666666, \"#ed7953\"], [0.7777777777777778, \"#fb9f3a\"], [0.8888888888888888, \"#fdca26\"], [1.0, \"#f0f921\"]], \"sequentialminus\": [[0.0, \"#0d0887\"], [0.1111111111111111, \"#46039f\"], [0.2222222222222222, \"#7201a8\"], [0.3333333333333333, \"#9c179e\"], [0.4444444444444444, \"#bd3786\"], [0.5555555555555556, \"#d8576b\"], [0.6666666666666666, \"#ed7953\"], [0.7777777777777778, \"#fb9f3a\"], [0.8888888888888888, \"#fdca26\"], [1.0, \"#f0f921\"]]}, \"colorway\": [\"#636efa\", \"#EF553B\", \"#00cc96\", \"#ab63fa\", \"#FFA15A\", \"#19d3f3\", \"#FF6692\", \"#B6E880\", \"#FF97FF\", \"#FECB52\"], \"font\": {\"color\": \"#2a3f5f\"}, \"geo\": {\"bgcolor\": \"white\", \"lakecolor\": \"white\", \"landcolor\": \"#E5ECF6\", \"showlakes\": true, \"showland\": true, \"subunitcolor\": \"white\"}, \"hoverlabel\": {\"align\": \"left\"}, \"hovermode\": \"closest\", \"mapbox\": {\"style\": \"light\"}, \"paper_bgcolor\": \"white\", \"plot_bgcolor\": \"#E5ECF6\", \"polar\": {\"angularaxis\": {\"gridcolor\": \"white\", \"linecolor\": \"white\", \"ticks\": \"\"}, \"bgcolor\": \"#E5ECF6\", \"radialaxis\": {\"gridcolor\": \"white\", \"linecolor\": \"white\", \"ticks\": \"\"}}, \"scene\": {\"xaxis\": {\"backgroundcolor\": \"#E5ECF6\", \"gridcolor\": \"white\", \"gridwidth\": 2, \"linecolor\": \"white\", \"showbackground\": true, \"ticks\": \"\", \"zerolinecolor\": \"white\"}, \"yaxis\": {\"backgroundcolor\": \"#E5ECF6\", \"gridcolor\": \"white\", \"gridwidth\": 2, \"linecolor\": \"white\", \"showbackground\": true, \"ticks\": \"\", \"zerolinecolor\": \"white\"}, \"zaxis\": {\"backgroundcolor\": \"#E5ECF6\", \"gridcolor\": \"white\", \"gridwidth\": 2, \"linecolor\": \"white\", \"showbackground\": true, \"ticks\": \"\", \"zerolinecolor\": \"white\"}}, \"shapedefaults\": {\"line\": {\"color\": \"#2a3f5f\"}}, \"ternary\": {\"aaxis\": {\"gridcolor\": \"white\", \"linecolor\": \"white\", \"ticks\": \"\"}, \"baxis\": {\"gridcolor\": \"white\", \"linecolor\": \"white\", \"ticks\": \"\"}, \"bgcolor\": \"#E5ECF6\", \"caxis\": {\"gridcolor\": \"white\", \"linecolor\": \"white\", \"ticks\": \"\"}}, \"title\": {\"x\": 0.05}, \"xaxis\": {\"automargin\": true, \"gridcolor\": \"white\", \"linecolor\": \"white\", \"ticks\": \"\", \"title\": {\"standoff\": 15}, \"zerolinecolor\": \"white\", \"zerolinewidth\": 2}, \"yaxis\": {\"automargin\": true, \"gridcolor\": \"white\", \"linecolor\": \"white\", \"ticks\": \"\", \"title\": {\"standoff\": 15}, \"zerolinecolor\": \"white\", \"zerolinewidth\": 2}}}, \"width\": 1700, \"xaxis\": {\"anchor\": \"y\", \"domain\": [0.0, 1.0], \"title\": {\"text\": \"Median Income\"}}, \"yaxis\": {\"anchor\": \"x\", \"domain\": [0.0, 1.0], \"title\": {\"text\": \"Years of coding experience\"}}},                        {\"responsive\": true}                    ).then(function(){\n",
       "                            \n",
       "var gd = document.getElementById('c042dc6b-43df-45c4-8ae9-14bf889791a7');\n",
       "var x = new MutationObserver(function (mutations, observer) {{\n",
       "        var display = window.getComputedStyle(gd).display;\n",
       "        if (!display || display === 'none') {{\n",
       "            console.log([gd, 'removed!']);\n",
       "            Plotly.purge(gd);\n",
       "            observer.disconnect();\n",
       "        }}\n",
       "}});\n",
       "\n",
       "// Listen for the removal of the full notebook cells\n",
       "var notebookContainer = gd.closest('#notebook-container');\n",
       "if (notebookContainer) {{\n",
       "    x.observe(notebookContainer, {childList: true});\n",
       "}}\n",
       "\n",
       "// Listen for the clearing of the current output cell\n",
       "var outputEl = gd.closest('.output');\n",
       "if (outputEl) {{\n",
       "    x.observe(outputEl, {childList: true});\n",
       "}}\n",
       "\n",
       "                        })                };                });            </script>        </div>"
      ]
     },
     "metadata": {},
     "output_type": "display_data"
    }
   ],
   "source": [
    "#Bubble plot on Median Income vs Median Years of experience \n",
    "import plotly.express as px\n",
    "df_a = px.data.gapminder()\n",
    "cc\n",
    "fig = px.scatter(ff, x=\"Median Income\", y=\"Years of coding experience\",\n",
    "                 size=\"No of respondents\", color=\"Country\",\n",
    "                log_x=False,hover_name=\"Country List\", size_max=90 , width=1700, height=500 )\n",
    "fig.show()\n"
   ]
  },
  {
   "cell_type": "code",
   "execution_count": 66,
   "metadata": {},
   "outputs": [
    {
     "data": {
      "text/plain": [
       "208826.49644259078"
      ]
     },
     "execution_count": 66,
     "metadata": {},
     "output_type": "execute_result"
    }
   ],
   "source": [
    "df_us['ConvertedComp'].mean()"
   ]
  },
  {
   "cell_type": "code",
   "execution_count": 67,
   "metadata": {},
   "outputs": [
    {
     "data": {
      "text/html": [
       "<div>\n",
       "<style scoped>\n",
       "    .dataframe tbody tr th:only-of-type {\n",
       "        vertical-align: middle;\n",
       "    }\n",
       "\n",
       "    .dataframe tbody tr th {\n",
       "        vertical-align: top;\n",
       "    }\n",
       "\n",
       "    .dataframe thead th {\n",
       "        text-align: right;\n",
       "    }\n",
       "</style>\n",
       "<table border=\"1\" class=\"dataframe\">\n",
       "  <thead>\n",
       "    <tr style=\"text-align: right;\">\n",
       "      <th></th>\n",
       "      <th>count</th>\n",
       "      <th>mean</th>\n",
       "      <th>std</th>\n",
       "      <th>min</th>\n",
       "      <th>25%</th>\n",
       "      <th>50%</th>\n",
       "      <th>75%</th>\n",
       "      <th>max</th>\n",
       "    </tr>\n",
       "  </thead>\n",
       "  <tbody>\n",
       "    <tr>\n",
       "      <th>Respondent</th>\n",
       "      <td>10965.0</td>\n",
       "      <td>2.973741e+04</td>\n",
       "      <td>2.027552e+04</td>\n",
       "      <td>5.0</td>\n",
       "      <td>8748.0</td>\n",
       "      <td>29555.0</td>\n",
       "      <td>48546.0</td>\n",
       "      <td>6.562900e+04</td>\n",
       "    </tr>\n",
       "    <tr>\n",
       "      <th>Age</th>\n",
       "      <td>8580.0</td>\n",
       "      <td>3.481085e+01</td>\n",
       "      <td>1.048568e+01</td>\n",
       "      <td>1.0</td>\n",
       "      <td>27.0</td>\n",
       "      <td>32.0</td>\n",
       "      <td>40.0</td>\n",
       "      <td>9.900000e+01</td>\n",
       "    </tr>\n",
       "    <tr>\n",
       "      <th>CompTotal</th>\n",
       "      <td>8171.0</td>\n",
       "      <td>1.359823e+243</td>\n",
       "      <td>inf</td>\n",
       "      <td>0.0</td>\n",
       "      <td>80000.0</td>\n",
       "      <td>110000.0</td>\n",
       "      <td>150000.0</td>\n",
       "      <td>1.111111e+247</td>\n",
       "    </tr>\n",
       "    <tr>\n",
       "      <th>ConvertedComp</th>\n",
       "      <td>8152.0</td>\n",
       "      <td>2.088265e+05</td>\n",
       "      <td>3.729250e+05</td>\n",
       "      <td>0.0</td>\n",
       "      <td>83000.0</td>\n",
       "      <td>115000.0</td>\n",
       "      <td>159625.0</td>\n",
       "      <td>2.000000e+06</td>\n",
       "    </tr>\n",
       "    <tr>\n",
       "      <th>WorkWeekHrs</th>\n",
       "      <td>9093.0</td>\n",
       "      <td>4.179240e+01</td>\n",
       "      <td>8.221370e+00</td>\n",
       "      <td>1.0</td>\n",
       "      <td>40.0</td>\n",
       "      <td>40.0</td>\n",
       "      <td>45.0</td>\n",
       "      <td>1.400000e+02</td>\n",
       "    </tr>\n",
       "    <tr>\n",
       "      <th>YearsCode</th>\n",
       "      <td>10409.0</td>\n",
       "      <td>1.680181e+01</td>\n",
       "      <td>1.130007e+01</td>\n",
       "      <td>1.0</td>\n",
       "      <td>8.0</td>\n",
       "      <td>14.0</td>\n",
       "      <td>23.0</td>\n",
       "      <td>5.000000e+01</td>\n",
       "    </tr>\n",
       "  </tbody>\n",
       "</table>\n",
       "</div>"
      ],
      "text/plain": [
       "                 count           mean           std  min      25%       50%  \\\n",
       "Respondent     10965.0   2.973741e+04  2.027552e+04  5.0   8748.0   29555.0   \n",
       "Age             8580.0   3.481085e+01  1.048568e+01  1.0     27.0      32.0   \n",
       "CompTotal       8171.0  1.359823e+243           inf  0.0  80000.0  110000.0   \n",
       "ConvertedComp   8152.0   2.088265e+05  3.729250e+05  0.0  83000.0  115000.0   \n",
       "WorkWeekHrs     9093.0   4.179240e+01  8.221370e+00  1.0     40.0      40.0   \n",
       "YearsCode      10409.0   1.680181e+01  1.130007e+01  1.0      8.0      14.0   \n",
       "\n",
       "                    75%            max  \n",
       "Respondent      48546.0   6.562900e+04  \n",
       "Age                40.0   9.900000e+01  \n",
       "CompTotal      150000.0  1.111111e+247  \n",
       "ConvertedComp  159625.0   2.000000e+06  \n",
       "WorkWeekHrs        45.0   1.400000e+02  \n",
       "YearsCode          23.0   5.000000e+01  "
      ]
     },
     "execution_count": 67,
     "metadata": {},
     "output_type": "execute_result"
    }
   ],
   "source": [
    "df_us.describe().transpose()"
   ]
  },
  {
   "cell_type": "code",
   "execution_count": 68,
   "metadata": {},
   "outputs": [
    {
     "data": {
      "text/html": [
       "<div>\n",
       "<style scoped>\n",
       "    .dataframe tbody tr th:only-of-type {\n",
       "        vertical-align: middle;\n",
       "    }\n",
       "\n",
       "    .dataframe tbody tr th {\n",
       "        vertical-align: top;\n",
       "    }\n",
       "\n",
       "    .dataframe thead th {\n",
       "        text-align: right;\n",
       "    }\n",
       "</style>\n",
       "<table border=\"1\" class=\"dataframe\">\n",
       "  <thead>\n",
       "    <tr style=\"text-align: right;\">\n",
       "      <th></th>\n",
       "      <th>count</th>\n",
       "      <th>mean</th>\n",
       "      <th>std</th>\n",
       "      <th>min</th>\n",
       "      <th>25%</th>\n",
       "      <th>50%</th>\n",
       "      <th>75%</th>\n",
       "      <th>max</th>\n",
       "    </tr>\n",
       "  </thead>\n",
       "  <tbody>\n",
       "    <tr>\n",
       "      <th>Respondent</th>\n",
       "      <td>6639.0</td>\n",
       "      <td>3.340774e+04</td>\n",
       "      <td>1.837898e+04</td>\n",
       "      <td>7.0</td>\n",
       "      <td>16844.0</td>\n",
       "      <td>35798.0</td>\n",
       "      <td>47326.5</td>\n",
       "      <td>6.559000e+04</td>\n",
       "    </tr>\n",
       "    <tr>\n",
       "      <th>Age</th>\n",
       "      <td>3512.0</td>\n",
       "      <td>2.717198e+01</td>\n",
       "      <td>5.108106e+00</td>\n",
       "      <td>10.0</td>\n",
       "      <td>24.0</td>\n",
       "      <td>26.0</td>\n",
       "      <td>29.0</td>\n",
       "      <td>9.800000e+01</td>\n",
       "    </tr>\n",
       "    <tr>\n",
       "      <th>CompTotal</th>\n",
       "      <td>2681.0</td>\n",
       "      <td>3.729985e+32</td>\n",
       "      <td>1.931308e+34</td>\n",
       "      <td>0.0</td>\n",
       "      <td>38000.0</td>\n",
       "      <td>360000.0</td>\n",
       "      <td>1085000.0</td>\n",
       "      <td>1.000000e+36</td>\n",
       "    </tr>\n",
       "    <tr>\n",
       "      <th>ConvertedComp</th>\n",
       "      <td>2668.0</td>\n",
       "      <td>2.875127e+04</td>\n",
       "      <td>9.301753e+04</td>\n",
       "      <td>0.0</td>\n",
       "      <td>5196.0</td>\n",
       "      <td>10056.0</td>\n",
       "      <td>20100.0</td>\n",
       "      <td>1.800000e+06</td>\n",
       "    </tr>\n",
       "    <tr>\n",
       "      <th>WorkWeekHrs</th>\n",
       "      <td>4029.0</td>\n",
       "      <td>4.034525e+01</td>\n",
       "      <td>1.675223e+01</td>\n",
       "      <td>1.0</td>\n",
       "      <td>40.0</td>\n",
       "      <td>40.0</td>\n",
       "      <td>48.0</td>\n",
       "      <td>1.680000e+02</td>\n",
       "    </tr>\n",
       "    <tr>\n",
       "      <th>YearsCode</th>\n",
       "      <td>5458.0</td>\n",
       "      <td>8.635581e+00</td>\n",
       "      <td>5.009541e+00</td>\n",
       "      <td>1.0</td>\n",
       "      <td>5.0</td>\n",
       "      <td>8.0</td>\n",
       "      <td>11.0</td>\n",
       "      <td>5.000000e+01</td>\n",
       "    </tr>\n",
       "  </tbody>\n",
       "</table>\n",
       "</div>"
      ],
      "text/plain": [
       "                count          mean           std   min      25%       50%  \\\n",
       "Respondent     6639.0  3.340774e+04  1.837898e+04   7.0  16844.0   35798.0   \n",
       "Age            3512.0  2.717198e+01  5.108106e+00  10.0     24.0      26.0   \n",
       "CompTotal      2681.0  3.729985e+32  1.931308e+34   0.0  38000.0  360000.0   \n",
       "ConvertedComp  2668.0  2.875127e+04  9.301753e+04   0.0   5196.0   10056.0   \n",
       "WorkWeekHrs    4029.0  4.034525e+01  1.675223e+01   1.0     40.0      40.0   \n",
       "YearsCode      5458.0  8.635581e+00  5.009541e+00   1.0      5.0       8.0   \n",
       "\n",
       "                     75%           max  \n",
       "Respondent       47326.5  6.559000e+04  \n",
       "Age                 29.0  9.800000e+01  \n",
       "CompTotal      1085000.0  1.000000e+36  \n",
       "ConvertedComp    20100.0  1.800000e+06  \n",
       "WorkWeekHrs         48.0  1.680000e+02  \n",
       "YearsCode           11.0  5.000000e+01  "
      ]
     },
     "execution_count": 68,
     "metadata": {},
     "output_type": "execute_result"
    }
   ],
   "source": [
    "df_ind.describe().transpose()"
   ]
  },
  {
   "cell_type": "markdown",
   "metadata": {},
   "source": [
    "#### Analysis:"
   ]
  },
  {
   "cell_type": "markdown",
   "metadata": {},
   "source": [
    " \n",
    "We see a stark difference in the median Income of the USA and India. USA with median income of 115k USD has among the highest median income among all countries, while India is far behind with a median income of 10K USD. "
   ]
  },
  {
   "cell_type": "markdown",
   "metadata": {},
   "source": [
    "## 4.2: What is the spread of salary distribution in USA and India?"
   ]
  },
  {
   "cell_type": "code",
   "execution_count": 69,
   "metadata": {},
   "outputs": [
    {
     "name": "stdout",
     "output_type": "stream",
     "text": [
      "Median Salary in India =  10056.0\n",
      "Median Salary in USA =  115000.0\n"
     ]
    }
   ],
   "source": [
    "#Median Salary in India and US\n",
    "print('Median Salary in India = ', df_ind['ConvertedComp'].median())\n",
    "print('Median Salary in USA = ', df_us['ConvertedComp'].median())"
   ]
  },
  {
   "cell_type": "code",
   "execution_count": 70,
   "metadata": {},
   "outputs": [
    {
     "data": {
      "text/plain": [
       "Text(0.5, 6.79999999999999, 'Annual Salary')"
      ]
     },
     "execution_count": 70,
     "metadata": {},
     "output_type": "execute_result"
    },
    {
     "data": {
      "text/plain": [
       "<Figure size 864x1440 with 0 Axes>"
      ]
     },
     "metadata": {},
     "output_type": "display_data"
    },
    {
     "data": {
      "image/png": "[encoded data removed]",
      "text/plain": [
       "<Figure size 360x360 with 1 Axes>"
      ]
     },
     "metadata": {
      "needs_background": "light"
     },
     "output_type": "display_data"
    }
   ],
   "source": [
    "#Salary distribution in India and USA\n",
    "#Box plot and Histogram to look at the salaru distribution\n",
    "\n",
    "sal_US_Ind = df_US_Ind.dropna(subset = ['ConvertedComp'], axis = 0)\n",
    "\n",
    "plt.figure(figsize=[12,20])\n",
    "sns.catplot(data = sal_US_Ind, x = 'ConvertedComp', y = 'Country',  kind = 'box')\n",
    "plt.xlabel(\"Annual Salary\")"
   ]
  },
  {
   "cell_type": "markdown",
   "metadata": {},
   "source": [
    "As you can see, there are lot of outlyer in both US and India. These need to be handlen in order to make a meaningful analysis"
   ]
  },
  {
   "cell_type": "code",
   "execution_count": 71,
   "metadata": {},
   "outputs": [
    {
     "data": {
      "text/plain": [
       "292043.125"
      ]
     },
     "execution_count": 71,
     "metadata": {},
     "output_type": "execute_result"
    }
   ],
   "source": [
    "#To find outliers in Salary\n",
    "Q1 = df_US_Ind['ConvertedComp'].quantile(0.25)\n",
    "Q3 = df_US_Ind['ConvertedComp'].quantile(0.75)\n",
    "IQR = Q3 - Q1\n",
    "max_value = Q3 + 1.5 * IQR\n",
    "min_value = Q1 - 1.5 * IQR\n",
    "min_value\n",
    "max_value"
   ]
  },
  {
   "cell_type": "code",
   "execution_count": 72,
   "metadata": {},
   "outputs": [
    {
     "data": {
      "text/plain": [
       "Text(0.5, 0, 'Salary(USD)')"
      ]
     },
     "execution_count": 72,
     "metadata": {},
     "output_type": "execute_result"
    },
    {
     "data": {
      "image/png": "[encoded data removed]",
      "text/plain": [
       "<Figure size 648x288 with 1 Axes>"
      ]
     },
     "metadata": {
      "needs_background": "light"
     },
     "output_type": "display_data"
    }
   ],
   "source": [
    "#Salary distribution in India and USA\n",
    "#Remove outlyer for US and plot Histogram again\n",
    "\n",
    "sal_US_Ind_o = df_US_Ind[df_US_Ind['ConvertedComp']< max_value ]\n",
    "\n",
    "plt.figure(figsize=[9,4])\n",
    "sal_hist = sns.histplot(data = sal_US_Ind_o, x = 'ConvertedComp', hue = 'Country', multiple = \"dodge\",element = 'step', \n",
    "                        bins = 50, kde = True ,stat = 'density' )\n",
    "plt.xlabel(\"Salary(USD)\")"
   ]
  },
  {
   "cell_type": "markdown",
   "metadata": {},
   "source": [
    "Now lets Analyse Salary per Gender in India"
   ]
  },
  {
   "cell_type": "code",
   "execution_count": 73,
   "metadata": {},
   "outputs": [
    {
     "data": {
      "text/plain": [
       "-17160.0"
      ]
     },
     "execution_count": 73,
     "metadata": {},
     "output_type": "execute_result"
    }
   ],
   "source": [
    "#To find outliers in Indian Salary\n",
    "Q1 = df_ind['ConvertedComp'].quantile(0.25)\n",
    "Q3 = df_ind['ConvertedComp'].quantile(0.75)\n",
    "IQR1 = Q3 - Q1\n",
    "max_value1 = Q3 + 1.5 * IQR1\n",
    "min_value1 = Q1 - 1.5 * IQR1\n",
    "min_value1\n",
    "#max_value1"
   ]
  },
  {
   "cell_type": "code",
   "execution_count": 74,
   "metadata": {},
   "outputs": [
    {
     "data": {
      "text/plain": [
       "Text(0.5, 0, 'Salary(USD)')"
      ]
     },
     "execution_count": 74,
     "metadata": {},
     "output_type": "execute_result"
    },
    {
     "data": {
      "image/png": "[encoded data removed]",
      "text/plain": [
       "<Figure size 288x288 with 1 Axes>"
      ]
     },
     "metadata": {
      "needs_background": "light"
     },
     "output_type": "display_data"
    }
   ],
   "source": [
    "#Salary distribution in India only\n",
    "#Remove outlyer for US and plot Histogram again\n",
    "\n",
    "sal_ind = df_ind[df_ind['ConvertedComp']< max_value1]\n",
    "plt.figure(figsize=[4,4])\n",
    "sal_hist1 = sns.histplot(data = sal_ind, x = 'ConvertedComp',  multiple = \"dodge\",element = 'step', \n",
    "                        bins = 15, kde = True ,stat = 'density', color = 'orangered'  ).set_title(\"Salary distribution in India\")\n",
    "plt.xlabel(\"Salary(USD)\")"
   ]
  },
  {
   "cell_type": "markdown",
   "metadata": {},
   "source": [
    "#### Analysis:"
   ]
  },
  {
   "cell_type": "markdown",
   "metadata": {},
   "source": [
    "We can see that the salary in USA is nearly normally distributed, where as in India the salary is heavily Right-Skewed. "
   ]
  },
  {
   "cell_type": "markdown",
   "metadata": {},
   "source": [
    "## 4.3. How different are the gender pay gap in USA and India?"
   ]
  },
  {
   "cell_type": "markdown",
   "metadata": {},
   "source": [
    "###  1. Gender pay gap in India"
   ]
  },
  {
   "cell_type": "code",
   "execution_count": 75,
   "metadata": {},
   "outputs": [],
   "source": [
    "#Drop Null values\n",
    "sal_Ind_rm = df_ind.dropna(subset = ['ConvertedComp', 'Gender'], axis = 0)\n",
    "sal_US_rm = df_us.dropna(subset = ['ConvertedComp', 'Gender'], axis = 0)"
   ]
  },
  {
   "cell_type": "code",
   "execution_count": 76,
   "metadata": {
    "scrolled": true
   },
   "outputs": [],
   "source": [
    "# including only Man and Woman in analysis. \n",
    "sal_Ind_rm = sal_Ind_rm[sal_Ind_rm['Gender'].isin(['Man','Woman'])]\n",
    "#sns.histplot(data = sal_Ind_rm, x = 'ConvertedComp', hue = 'Gender',element = 'step', bins = 100 , kde = True )\n",
    "#sns.catplot(data = sal_Ind_rm, x = 'ConvertedComp', y = 'Gender', aspect = 4 , kind = 'box')"
   ]
  },
  {
   "cell_type": "code",
   "execution_count": 77,
   "metadata": {},
   "outputs": [
    {
     "data": {
      "text/html": [
       "<div>\n",
       "<style scoped>\n",
       "    .dataframe tbody tr th:only-of-type {\n",
       "        vertical-align: middle;\n",
       "    }\n",
       "\n",
       "    .dataframe tbody tr th {\n",
       "        vertical-align: top;\n",
       "    }\n",
       "\n",
       "    .dataframe thead th {\n",
       "        text-align: right;\n",
       "    }\n",
       "</style>\n",
       "<table border=\"1\" class=\"dataframe\">\n",
       "  <thead>\n",
       "    <tr style=\"text-align: right;\">\n",
       "      <th></th>\n",
       "      <th>Gender</th>\n",
       "      <th>Median Income</th>\n",
       "    </tr>\n",
       "  </thead>\n",
       "  <tbody>\n",
       "    <tr>\n",
       "      <th>1</th>\n",
       "      <td>Woman</td>\n",
       "      <td>7006.5</td>\n",
       "    </tr>\n",
       "    <tr>\n",
       "      <th>0</th>\n",
       "      <td>Man</td>\n",
       "      <td>10471.0</td>\n",
       "    </tr>\n",
       "  </tbody>\n",
       "</table>\n",
       "</div>"
      ],
      "text/plain": [
       "  Gender  Median Income\n",
       "1  Woman         7006.5\n",
       "0    Man        10471.0"
      ]
     },
     "execution_count": 77,
     "metadata": {},
     "output_type": "execute_result"
    }
   ],
   "source": [
    "#Calculate median Income in India for Man and Woman. \n",
    "sal_Ind_rm_df = pd.DataFrame(sal_Ind_rm.groupby(['Gender'])['ConvertedComp'].median())\n",
    "sal_Ind_rm_df.reset_index(inplace = True)\n",
    "sal_Ind_rm_df = sal_Ind_rm_df.rename(columns = {'ConvertedComp':'Median Income'})\n",
    "sal_Ind_rm_df  = sal_Ind_rm_df.sort_values(by = 'Median Income', ascending = True)\n",
    "sal_Ind_rm_df"
   ]
  },
  {
   "cell_type": "code",
   "execution_count": 78,
   "metadata": {},
   "outputs": [
    {
     "data": {
      "text/plain": [
       "49.446942125169485"
      ]
     },
     "execution_count": 78,
     "metadata": {},
     "output_type": "execute_result"
    }
   ],
   "source": [
    "#Calculate Gender pay gap\n",
    "((10471-7006.5)/7006.5)*100"
   ]
  },
  {
   "cell_type": "code",
   "execution_count": 79,
   "metadata": {},
   "outputs": [
    {
     "data": {
      "text/plain": [
       "Text(0.5, 0, '')"
      ]
     },
     "execution_count": 79,
     "metadata": {},
     "output_type": "execute_result"
    },
    {
     "data": {
      "image/png": "[encoded data removed]",
      "text/plain": [
       "<Figure size 288x288 with 1 Axes>"
      ]
     },
     "metadata": {
      "needs_background": "light"
     },
     "output_type": "display_data"
    }
   ],
   "source": [
    "# Bar Chart to indicate median salary for Mena and Woman\n",
    "plt.figure(figsize=[4,4])\n",
    "sns.barplot( x = 'Gender' , y = 'Median Income', data = sal_Ind_rm_df , palette = sns.color_palette(\"RdBu\", 2)  )\n",
    "plt.xlabel(\"\")"
   ]
  },
  {
   "cell_type": "code",
   "execution_count": null,
   "metadata": {},
   "outputs": [],
   "source": []
  },
  {
   "cell_type": "markdown",
   "metadata": {},
   "source": [
    "### 2. Gender pay gap in USA"
   ]
  },
  {
   "cell_type": "code",
   "execution_count": 80,
   "metadata": {},
   "outputs": [],
   "source": [
    "sal_US_rm = sal_US_rm[sal_US_rm['Gender'].isin(['Man','Woman'])]"
   ]
  },
  {
   "cell_type": "code",
   "execution_count": 81,
   "metadata": {},
   "outputs": [
    {
     "data": {
      "text/html": [
       "<div>\n",
       "<style scoped>\n",
       "    .dataframe tbody tr th:only-of-type {\n",
       "        vertical-align: middle;\n",
       "    }\n",
       "\n",
       "    .dataframe tbody tr th {\n",
       "        vertical-align: top;\n",
       "    }\n",
       "\n",
       "    .dataframe thead th {\n",
       "        text-align: right;\n",
       "    }\n",
       "</style>\n",
       "<table border=\"1\" class=\"dataframe\">\n",
       "  <thead>\n",
       "    <tr style=\"text-align: right;\">\n",
       "      <th></th>\n",
       "      <th>Gender</th>\n",
       "      <th>Median Income</th>\n",
       "    </tr>\n",
       "  </thead>\n",
       "  <tbody>\n",
       "    <tr>\n",
       "      <th>1</th>\n",
       "      <td>Woman</td>\n",
       "      <td>103000.0</td>\n",
       "    </tr>\n",
       "    <tr>\n",
       "      <th>0</th>\n",
       "      <td>Man</td>\n",
       "      <td>116000.0</td>\n",
       "    </tr>\n",
       "  </tbody>\n",
       "</table>\n",
       "</div>"
      ],
      "text/plain": [
       "  Gender  Median Income\n",
       "1  Woman       103000.0\n",
       "0    Man       116000.0"
      ]
     },
     "execution_count": 81,
     "metadata": {},
     "output_type": "execute_result"
    }
   ],
   "source": [
    "#Calculate median Income in the USA for Man and Woman. \n",
    "sal_US_rm_df = pd.DataFrame(sal_US_rm.groupby(['Gender'])['ConvertedComp'].median())\n",
    "sal_US_rm_df.reset_index(inplace = True)\n",
    "sal_US_rm_df = sal_US_rm_df.rename(columns = {'ConvertedComp':'Median Income'})\n",
    "sal_US_rm_df = sal_US_rm_df.sort_values(by = 'Median Income', ascending = True)\n",
    "sal_US_rm_df "
   ]
  },
  {
   "cell_type": "code",
   "execution_count": 82,
   "metadata": {},
   "outputs": [
    {
     "data": {
      "text/plain": [
       "12.62135922330097"
      ]
     },
     "execution_count": 82,
     "metadata": {},
     "output_type": "execute_result"
    }
   ],
   "source": [
    "((116000-103000)/103000)*100"
   ]
  },
  {
   "cell_type": "code",
   "execution_count": 83,
   "metadata": {
    "scrolled": true
   },
   "outputs": [
    {
     "data": {
      "text/plain": [
       "Text(0.5, 0, '')"
      ]
     },
     "execution_count": 83,
     "metadata": {},
     "output_type": "execute_result"
    },
    {
     "data": {
      "image/png": "[encoded data removed]",
      "text/plain": [
       "<Figure size 288x288 with 1 Axes>"
      ]
     },
     "metadata": {
      "needs_background": "light"
     },
     "output_type": "display_data"
    }
   ],
   "source": [
    "# Bar Chart to indicate the distribution of respondents per country\n",
    "plt.figure(figsize=[4,4])\n",
    "sns.barplot( x = 'Gender' , y = 'Median Income', data = sal_US_rm_df , palette = sns.color_palette(\"RdBu\", 2)  )\n",
    "plt.xlabel(\"\")"
   ]
  },
  {
   "cell_type": "code",
   "execution_count": 84,
   "metadata": {},
   "outputs": [
    {
     "data": {
      "text/plain": [
       "Man       8164\n",
       "Woman      944\n",
       "LGBTQ+     186\n",
       "Name: Gender, dtype: int64"
      ]
     },
     "execution_count": 84,
     "metadata": {},
     "output_type": "execute_result"
    }
   ],
   "source": [
    "df_us['Gender'].value_counts()"
   ]
  },
  {
   "cell_type": "markdown",
   "metadata": {},
   "source": [
    "#### Analysis:"
   ]
  },
  {
   "cell_type": "markdown",
   "metadata": {},
   "source": [
    "In the USA, Men eard 12% more than Women, while in India Men earn around 49% more than wome. "
   ]
  },
  {
   "cell_type": "markdown",
   "metadata": {},
   "source": [
    "## 4.4. How are developers paid based on their qualification? "
   ]
  },
  {
   "cell_type": "markdown",
   "metadata": {},
   "source": [
    "### 1. United States"
   ]
  },
  {
   "cell_type": "code",
   "execution_count": 85,
   "metadata": {
    "scrolled": true
   },
   "outputs": [
    {
     "data": {
      "text/plain": [
       "Bachelor’s degree                                  5902\n",
       "Master’s degree                                    2106\n",
       "Some college/Associate degree/Unfinished degree    1707\n",
       "Doctoral degree                                     403\n",
       "High school or lesser                               327\n",
       "Name: EdLevel, dtype: int64"
      ]
     },
     "execution_count": 85,
     "metadata": {},
     "output_type": "execute_result"
    }
   ],
   "source": [
    "#No of respondents for each education level in USA\n",
    "df_us['EdLevel'].value_counts()"
   ]
  },
  {
   "cell_type": "code",
   "execution_count": 86,
   "metadata": {},
   "outputs": [
    {
     "name": "stdout",
     "output_type": "stream",
     "text": [
      "\n"
     ]
    },
    {
     "data": {
      "text/plain": [
       "Text(0, 0.5, '')"
      ]
     },
     "execution_count": 86,
     "metadata": {},
     "output_type": "execute_result"
    },
    {
     "data": {
      "image/png": "[encoded data removed]",
      "text/plain": [
       "<Figure size 576x432 with 1 Axes>"
      ]
     },
     "metadata": {
      "needs_background": "light"
     },
     "output_type": "display_data"
    }
   ],
   "source": [
    "#Plot median salary per education level: Plot 1\n",
    "from numpy import median\n",
    "plt.figure(figsize=[8,6])\n",
    "sns.barplot( y = 'EdLevel' , x = 'ConvertedComp', data = df_us ,\n",
    "            palette = sns.color_palette(\"Set3\", 1) ,estimator= median , capsize=.1 , \n",
    "            order = [\"Doctoral degree\", \"Master’s degree\", \"Bachelor’s degree\",\n",
    "                     \"Some college/Associate degree/Unfinished degree\",\"High school or lesser\"]).set_title(\"USA\")\n",
    "print(\"\")\n",
    "plt.xlabel(\"Median Salary(USD)\")\n",
    "plt.ylabel(\"\")"
   ]
  },
  {
   "cell_type": "markdown",
   "metadata": {},
   "source": [
    "Note: the lines in the bar graph indicates margin of error for each category. "
   ]
  },
  {
   "cell_type": "markdown",
   "metadata": {},
   "source": [
    "### 2. India"
   ]
  },
  {
   "cell_type": "code",
   "execution_count": 87,
   "metadata": {
    "scrolled": false
   },
   "outputs": [
    {
     "data": {
      "text/plain": [
       "Bachelor’s degree                                  3842\n",
       "Master’s degree                                    1375\n",
       "Some college/Associate degree/Unfinished degree     141\n",
       "High school or lesser                               114\n",
       "Doctoral degree                                      16\n",
       "Name: EdLevel, dtype: int64"
      ]
     },
     "execution_count": 87,
     "metadata": {},
     "output_type": "execute_result"
    }
   ],
   "source": [
    "#No of respondents for each education level in India\n",
    "df_ind['EdLevel'].value_counts()"
   ]
  },
  {
   "cell_type": "code",
   "execution_count": 88,
   "metadata": {},
   "outputs": [
    {
     "data": {
      "text/plain": [
       "Text(0.5, 0, 'Median Salary(USD)')"
      ]
     },
     "execution_count": 88,
     "metadata": {},
     "output_type": "execute_result"
    },
    {
     "data": {
      "image/png": "[encoded data removed]",
      "text/plain": [
       "<Figure size 576x432 with 1 Axes>"
      ]
     },
     "metadata": {
      "needs_background": "light"
     },
     "output_type": "display_data"
    }
   ],
   "source": [
    "#The data in India has a few extreme outlyer. Thus only including those with salary lesser than 15000 for the analysis.\n",
    "\n",
    "sal_ind = df_ind[df_ind['ConvertedComp']< 15000]\n",
    "sal_ind = sal_ind.sort_values(by = 'ConvertedComp', ascending = False)\n",
    "\n",
    "#Plot median salary per education level(India): Plot 1\n",
    "\n",
    "plt.figure(figsize=[8,6])\n",
    "sns.barplot( y = 'EdLevel' , x = 'ConvertedComp', data = sal_ind ,color = 'salmon' ,\n",
    "            estimator= median , capsize=.1 ).set_title(\"India\")\n",
    "plt.ylabel(\"\")\n",
    "plt.xlabel(\"Median Salary(USD)\")"
   ]
  },
  {
   "cell_type": "markdown",
   "metadata": {},
   "source": [
    "Note: Median salary for Hight School and Doctoral degree is very high. Thus sould be careful before drawing any inference from them. "
   ]
  },
  {
   "cell_type": "markdown",
   "metadata": {},
   "source": [
    "## 4.5. How are developers paid based on the developer role?"
   ]
  },
  {
   "cell_type": "code",
   "execution_count": 89,
   "metadata": {},
   "outputs": [
    {
     "data": {
      "text/plain": [
       "Developer, back-end                              26182\n",
       "Developer, full-stack                            26102\n",
       "Developer, front-end                             17345\n",
       "Developer, desktop or enterprise applications    11329\n",
       "Developer, mobile                                 8930\n",
       "DevOps specialist                                 5870\n",
       "Database administrator                            5438\n",
       "System administrator                              4864\n",
       "Designer                                          4810\n",
       "Developer, embedded applications or devices       4541\n",
       "Developer, QA or test                             3760\n",
       "Data or business analyst                          3740\n",
       "Data scientist or machine learning specialist     3711\n",
       "Engineer, data                                    3559\n",
       "Academic researcher                               3212\n",
       "Educator                                          2693\n",
       "Engineering manager                               2648\n",
       "Developer, game or graphics                       2492\n",
       "Product manager                                   2356\n",
       "Scientist                                         1930\n",
       "Engineer, site reliability                        1876\n",
       "Senior executive/VP                               1259\n",
       "Marketing or sales professional                    536\n",
       "dtype: int64"
      ]
     },
     "execution_count": 89,
     "metadata": {},
     "output_type": "execute_result"
    }
   ],
   "source": [
    "#No of respondents who selected each of teh DevTypes. \n",
    "\n",
    "#DevType was a multiselect variable, where respondents could select multiple options. \n",
    "#Applying methods so that we can get counts for each option selected. \n",
    "python_bool = df['DevType'].str.split(';', expand = True)\n",
    "python_bool.head()\n",
    "python_bool.stack().value_counts()"
   ]
  },
  {
   "cell_type": "code",
   "execution_count": 90,
   "metadata": {
    "scrolled": true
   },
   "outputs": [],
   "source": [
    "#Store all the DevType in a list.  \n",
    "\n",
    "DevType_Values = [\"Academic researcher\",\"Data or business analyst\",\"Data scientist or machine learning specialist\",\n",
    "  \"Database administrator\",\"Designer\",\"Developer, back-end\",\"Developer, desktop or enterprise applications\",\n",
    "  \"Developer, embedded applications or devices\",\"Developer, front-end\",\"Developer, full-stack\",\"Developer, game or graphics\",\n",
    "  \"Developer, mobile\",\"Developer, QA or test\",\"DevOps specialist\",\"Educator\",\"Engineer, data\",\n",
    "  \"Engineer, site reliability\",\"Engineering manager\",\"Marketing or sales professional\",\"Product manager\",\n",
    "  \"Scientist\",\"Senior executive/VP\",\"System administrator\"]"
   ]
  },
  {
   "cell_type": "markdown",
   "metadata": {},
   "source": [
    "### 1. USA"
   ]
  },
  {
   "cell_type": "code",
   "execution_count": 91,
   "metadata": {},
   "outputs": [],
   "source": [
    "#Drop Null values\n",
    "df_us1 = df_us.dropna(subset = ['ConvertedComp', 'DevType'], axis = 0)"
   ]
  },
  {
   "cell_type": "code",
   "execution_count": 92,
   "metadata": {},
   "outputs": [],
   "source": [
    "#To calculate median Salary for each DevType\n",
    "\n",
    "\n",
    "'''\n",
    "Use for loop to iterate through each DevType from the list DevType_Values\n",
    "Store all the rows that match the DevType in a dataframe.\n",
    "Find the median salary of the respendents in the dataframe and store it in a list.\n",
    "\n",
    "This way, we will have a list of median salary for each of the DevType\n",
    "\n",
    "Note: this code needs to be improved further. \n",
    "'''\n",
    "\n",
    "#Empty lists\n",
    "my_list11 = []\n",
    "my_list22 = []\n",
    "\n",
    "#For loop to iterate through each Devtypes in DevType_Values list\n",
    "for j in  DevType_Values:\n",
    "    \n",
    "    #Creat dataframe to store all rows which contains a particular DevType\n",
    "    abcd = df_us1[df_us1['DevType'].str.contains(j)]\n",
    "    #Find the median salary of the dataframe for the DevType and store as a list\n",
    "    my_list = abcd['ConvertedComp'].median()\n",
    "    #Append the list with median salary, for each DevType in DevType_Values\n",
    "    my_list11.append(my_list)\n",
    "    #Append the individual DevType to another list.\n",
    "    my_list22.append(j)\n",
    "    \n",
    "#Convert list to a Dataframe\n",
    "df_my_list11 = pd.DataFrame(my_list11, columns = ['Salary'])\n",
    "df_my_list22 = pd.DataFrame(my_list22, columns = ['Job type'])\n",
    "\n",
    "#Join the DevType list and the corresponding MEdian for each devtype to a single dataframe. \n",
    "df_my_list11['Job Type'] = df_my_list22\n",
    "df_my_list11\n",
    "df_my_list11 = df_my_list11.sort_values(by = 'Salary', ascending = False)"
   ]
  },
  {
   "cell_type": "code",
   "execution_count": 94,
   "metadata": {},
   "outputs": [],
   "source": [
    "def split_the_multipunch(data_frame, column_name1 , column_name2 , value):\n",
    "    #Empty lists\n",
    "    my_list1 = []\n",
    "    my_list2 = []\n",
    "    \n",
    "    for i in  value:\n",
    "        data = data_frame[data_frame[column_name1].str.contains(i)]\n",
    "        my_list = data[column_name2].median()\n",
    "        my_list1.append(my_list)\n",
    "        my_list2.append(i)\n",
    "        \n",
    "    #Convert list to a Dataframe\n",
    "    df_my_list1 = pd.DataFrame(my_list1, columns = [column_name2])\n",
    "    df_my_list2 = pd.DataFrame(my_list2, columns = [column_name1])\n",
    "        \n",
    "    df_my_list1[column_name1] = df_my_list2\n",
    "    df_my_list1 = df_my_list1.sort_values(by = column_name2, ascending = False)\n",
    "        \n",
    "    return df_my_list1       "
   ]
  },
  {
   "cell_type": "code",
   "execution_count": 95,
   "metadata": {},
   "outputs": [
    {
     "data": {
      "text/html": [
       "<div>\n",
       "<style scoped>\n",
       "    .dataframe tbody tr th:only-of-type {\n",
       "        vertical-align: middle;\n",
       "    }\n",
       "\n",
       "    .dataframe tbody tr th {\n",
       "        vertical-align: top;\n",
       "    }\n",
       "\n",
       "    .dataframe thead th {\n",
       "        text-align: right;\n",
       "    }\n",
       "</style>\n",
       "<table border=\"1\" class=\"dataframe\">\n",
       "  <thead>\n",
       "    <tr style=\"text-align: right;\">\n",
       "      <th></th>\n",
       "      <th>ConvertedComp</th>\n",
       "      <th>DevType</th>\n",
       "    </tr>\n",
       "  </thead>\n",
       "  <tbody>\n",
       "    <tr>\n",
       "      <th>21</th>\n",
       "      <td>163500.0</td>\n",
       "      <td>Senior executive/VP</td>\n",
       "    </tr>\n",
       "    <tr>\n",
       "      <th>17</th>\n",
       "      <td>151500.0</td>\n",
       "      <td>Engineering manager</td>\n",
       "    </tr>\n",
       "    <tr>\n",
       "      <th>16</th>\n",
       "      <td>140000.0</td>\n",
       "      <td>Engineer, site reliability</td>\n",
       "    </tr>\n",
       "    <tr>\n",
       "      <th>15</th>\n",
       "      <td>125000.0</td>\n",
       "      <td>Engineer, data</td>\n",
       "    </tr>\n",
       "    <tr>\n",
       "      <th>2</th>\n",
       "      <td>125000.0</td>\n",
       "      <td>Data scientist or machine learning specialist</td>\n",
       "    </tr>\n",
       "    <tr>\n",
       "      <th>19</th>\n",
       "      <td>125000.0</td>\n",
       "      <td>Product manager</td>\n",
       "    </tr>\n",
       "    <tr>\n",
       "      <th>13</th>\n",
       "      <td>125000.0</td>\n",
       "      <td>DevOps specialist</td>\n",
       "    </tr>\n",
       "    <tr>\n",
       "      <th>11</th>\n",
       "      <td>120000.0</td>\n",
       "      <td>Developer, mobile</td>\n",
       "    </tr>\n",
       "    <tr>\n",
       "      <th>20</th>\n",
       "      <td>120000.0</td>\n",
       "      <td>Scientist</td>\n",
       "    </tr>\n",
       "    <tr>\n",
       "      <th>5</th>\n",
       "      <td>120000.0</td>\n",
       "      <td>Developer, back-end</td>\n",
       "    </tr>\n",
       "    <tr>\n",
       "      <th>7</th>\n",
       "      <td>120000.0</td>\n",
       "      <td>Developer, embedded applications or devices</td>\n",
       "    </tr>\n",
       "    <tr>\n",
       "      <th>6</th>\n",
       "      <td>115000.0</td>\n",
       "      <td>Developer, desktop or enterprise applications</td>\n",
       "    </tr>\n",
       "    <tr>\n",
       "      <th>14</th>\n",
       "      <td>115000.0</td>\n",
       "      <td>Educator</td>\n",
       "    </tr>\n",
       "    <tr>\n",
       "      <th>9</th>\n",
       "      <td>112461.0</td>\n",
       "      <td>Developer, full-stack</td>\n",
       "    </tr>\n",
       "    <tr>\n",
       "      <th>10</th>\n",
       "      <td>111300.0</td>\n",
       "      <td>Developer, game or graphics</td>\n",
       "    </tr>\n",
       "    <tr>\n",
       "      <th>22</th>\n",
       "      <td>110000.0</td>\n",
       "      <td>System administrator</td>\n",
       "    </tr>\n",
       "    <tr>\n",
       "      <th>8</th>\n",
       "      <td>110000.0</td>\n",
       "      <td>Developer, front-end</td>\n",
       "    </tr>\n",
       "    <tr>\n",
       "      <th>3</th>\n",
       "      <td>110000.0</td>\n",
       "      <td>Database administrator</td>\n",
       "    </tr>\n",
       "    <tr>\n",
       "      <th>12</th>\n",
       "      <td>105000.0</td>\n",
       "      <td>Developer, QA or test</td>\n",
       "    </tr>\n",
       "    <tr>\n",
       "      <th>1</th>\n",
       "      <td>100000.0</td>\n",
       "      <td>Data or business analyst</td>\n",
       "    </tr>\n",
       "    <tr>\n",
       "      <th>4</th>\n",
       "      <td>100000.0</td>\n",
       "      <td>Designer</td>\n",
       "    </tr>\n",
       "    <tr>\n",
       "      <th>0</th>\n",
       "      <td>100000.0</td>\n",
       "      <td>Academic researcher</td>\n",
       "    </tr>\n",
       "    <tr>\n",
       "      <th>18</th>\n",
       "      <td>89000.0</td>\n",
       "      <td>Marketing or sales professional</td>\n",
       "    </tr>\n",
       "  </tbody>\n",
       "</table>\n",
       "</div>"
      ],
      "text/plain": [
       "    ConvertedComp                                        DevType\n",
       "21       163500.0                            Senior executive/VP\n",
       "17       151500.0                            Engineering manager\n",
       "16       140000.0                     Engineer, site reliability\n",
       "15       125000.0                                 Engineer, data\n",
       "2        125000.0  Data scientist or machine learning specialist\n",
       "19       125000.0                                Product manager\n",
       "13       125000.0                              DevOps specialist\n",
       "11       120000.0                              Developer, mobile\n",
       "20       120000.0                                      Scientist\n",
       "5        120000.0                            Developer, back-end\n",
       "7        120000.0    Developer, embedded applications or devices\n",
       "6        115000.0  Developer, desktop or enterprise applications\n",
       "14       115000.0                                       Educator\n",
       "9        112461.0                          Developer, full-stack\n",
       "10       111300.0                    Developer, game or graphics\n",
       "22       110000.0                           System administrator\n",
       "8        110000.0                           Developer, front-end\n",
       "3        110000.0                         Database administrator\n",
       "12       105000.0                          Developer, QA or test\n",
       "1        100000.0                       Data or business analyst\n",
       "4        100000.0                                       Designer\n",
       "0        100000.0                            Academic researcher\n",
       "18        89000.0                Marketing or sales professional"
      ]
     },
     "execution_count": 95,
     "metadata": {},
     "output_type": "execute_result"
    }
   ],
   "source": [
    "median_sal = split_the_multipunch(df_us1 ,'DevType' , 'ConvertedComp' ,  DevType_Values)\n",
    "median_sal"
   ]
  },
  {
   "cell_type": "code",
   "execution_count": 93,
   "metadata": {},
   "outputs": [
    {
     "data": {
      "text/plain": [
       "Text(0, 0.5, '')"
      ]
     },
     "execution_count": 93,
     "metadata": {},
     "output_type": "execute_result"
    },
    {
     "data": {
      "image/png": "[encoded data removed]",
      "text/plain": [
       "<Figure size 576x576 with 1 Axes>"
      ]
     },
     "metadata": {
      "needs_background": "light"
     },
     "output_type": "display_data"
    }
   ],
   "source": [
    "# Bar Chart to indicate median salary for each DevType\n",
    "plt.figure(figsize=[8,8])\n",
    "sns.barplot( y = 'Job Type' , x = 'Salary', data = df_my_list11 , palette = sns.color_palette(\"Set3\", 1) ).set_title(\"USA\")\n",
    "plt.xlabel(\"Median Salary(USD)\")\n",
    "plt.ylabel(\"\")"
   ]
  },
  {
   "cell_type": "markdown",
   "metadata": {},
   "source": [
    "### 2. India"
   ]
  },
  {
   "cell_type": "code",
   "execution_count": 45,
   "metadata": {},
   "outputs": [],
   "source": [
    "#To calculate median Salary for each DevType\n",
    "\n",
    "df_ind1 = df_ind.dropna(subset = ['ConvertedComp', 'DevType'], axis = 0)\n",
    "\n",
    "my_list1 = []\n",
    "my_list2 = []\n",
    "for i in  DevType_Values:\n",
    "    abc = df_ind1[df_ind1['DevType'].str.contains(i)]\n",
    "    my_list = abc['ConvertedComp'].median()\n",
    "    my_list1.append(my_list)\n",
    "    my_list2.append(i)\n",
    "\n",
    "df_my_list1 = pd.DataFrame(my_list1, columns = ['Salary'])\n",
    "df_my_list2 = pd.DataFrame(my_list2, columns = ['Job type'])\n",
    "df_my_list1['Job Type'] = df_my_list2\n",
    "df_my_list1 = df_my_list1.sort_values(by = 'Salary', ascending = False)"
   ]
  },
  {
   "cell_type": "code",
   "execution_count": 46,
   "metadata": {},
   "outputs": [
    {
     "data": {
      "text/plain": [
       "Text(0, 0.5, '')"
      ]
     },
     "execution_count": 46,
     "metadata": {},
     "output_type": "execute_result"
    },
    {
     "data": {
      "image/png": "[encoded data removed]",
      "text/plain": [
       "<Figure size 576x576 with 1 Axes>"
      ]
     },
     "metadata": {
      "needs_background": "light"
     },
     "output_type": "display_data"
    }
   ],
   "source": [
    "# Bar Chart to indicate median salary for each DevType\n",
    "plt.figure(figsize=[8,8])\n",
    "sns.barplot( y = 'Job Type' , x = 'Salary', data = df_my_list1 , color = 'salmon' ).set_title(\"India\")\n",
    "plt.xlabel(\"Median Salary(USD)\")\n",
    "plt.ylabel(\"\")"
   ]
  },
  {
   "cell_type": "markdown",
   "metadata": {},
   "source": [
    "## 4.6. What are the programming languages that pays the most in USA and India? "
   ]
  },
  {
   "cell_type": "code",
   "execution_count": 47,
   "metadata": {},
   "outputs": [
    {
     "data": {
      "text/html": [
       "<div>\n",
       "<style scoped>\n",
       "    .dataframe tbody tr th:only-of-type {\n",
       "        vertical-align: middle;\n",
       "    }\n",
       "\n",
       "    .dataframe tbody tr th {\n",
       "        vertical-align: top;\n",
       "    }\n",
       "\n",
       "    .dataframe thead th {\n",
       "        text-align: right;\n",
       "    }\n",
       "</style>\n",
       "<table border=\"1\" class=\"dataframe\">\n",
       "  <thead>\n",
       "    <tr style=\"text-align: right;\">\n",
       "      <th></th>\n",
       "      <th>index</th>\n",
       "      <th>0</th>\n",
       "    </tr>\n",
       "  </thead>\n",
       "  <tbody>\n",
       "    <tr>\n",
       "      <th>0</th>\n",
       "      <td>JavaScript</td>\n",
       "      <td>7307</td>\n",
       "    </tr>\n",
       "    <tr>\n",
       "      <th>1</th>\n",
       "      <td>HTML/CSS</td>\n",
       "      <td>6522</td>\n",
       "    </tr>\n",
       "    <tr>\n",
       "      <th>2</th>\n",
       "      <td>SQL</td>\n",
       "      <td>6195</td>\n",
       "    </tr>\n",
       "    <tr>\n",
       "      <th>3</th>\n",
       "      <td>Python</td>\n",
       "      <td>5060</td>\n",
       "    </tr>\n",
       "    <tr>\n",
       "      <th>4</th>\n",
       "      <td>Bash/Shell/PowerShell</td>\n",
       "      <td>4822</td>\n",
       "    </tr>\n",
       "    <tr>\n",
       "      <th>5</th>\n",
       "      <td>C#</td>\n",
       "      <td>3549</td>\n",
       "    </tr>\n",
       "    <tr>\n",
       "      <th>6</th>\n",
       "      <td>Java</td>\n",
       "      <td>3432</td>\n",
       "    </tr>\n",
       "    <tr>\n",
       "      <th>7</th>\n",
       "      <td>TypeScript</td>\n",
       "      <td>2909</td>\n",
       "    </tr>\n",
       "    <tr>\n",
       "      <th>8</th>\n",
       "      <td>C++</td>\n",
       "      <td>2036</td>\n",
       "    </tr>\n",
       "    <tr>\n",
       "      <th>9</th>\n",
       "      <td>PHP</td>\n",
       "      <td>1806</td>\n",
       "    </tr>\n",
       "    <tr>\n",
       "      <th>10</th>\n",
       "      <td>C</td>\n",
       "      <td>1744</td>\n",
       "    </tr>\n",
       "    <tr>\n",
       "      <th>11</th>\n",
       "      <td>Go</td>\n",
       "      <td>1273</td>\n",
       "    </tr>\n",
       "    <tr>\n",
       "      <th>12</th>\n",
       "      <td>Ruby</td>\n",
       "      <td>1133</td>\n",
       "    </tr>\n",
       "    <tr>\n",
       "      <th>13</th>\n",
       "      <td>Rust</td>\n",
       "      <td>713</td>\n",
       "    </tr>\n",
       "    <tr>\n",
       "      <th>14</th>\n",
       "      <td>Swift</td>\n",
       "      <td>709</td>\n",
       "    </tr>\n",
       "    <tr>\n",
       "      <th>15</th>\n",
       "      <td>R</td>\n",
       "      <td>701</td>\n",
       "    </tr>\n",
       "    <tr>\n",
       "      <th>16</th>\n",
       "      <td>VBA</td>\n",
       "      <td>659</td>\n",
       "    </tr>\n",
       "    <tr>\n",
       "      <th>17</th>\n",
       "      <td>Kotlin</td>\n",
       "      <td>613</td>\n",
       "    </tr>\n",
       "    <tr>\n",
       "      <th>18</th>\n",
       "      <td>Assembly</td>\n",
       "      <td>523</td>\n",
       "    </tr>\n",
       "    <tr>\n",
       "      <th>19</th>\n",
       "      <td>Perl</td>\n",
       "      <td>490</td>\n",
       "    </tr>\n",
       "    <tr>\n",
       "      <th>20</th>\n",
       "      <td>Scala</td>\n",
       "      <td>478</td>\n",
       "    </tr>\n",
       "    <tr>\n",
       "      <th>21</th>\n",
       "      <td>Objective-C</td>\n",
       "      <td>467</td>\n",
       "    </tr>\n",
       "    <tr>\n",
       "      <th>22</th>\n",
       "      <td>Dart</td>\n",
       "      <td>236</td>\n",
       "    </tr>\n",
       "    <tr>\n",
       "      <th>23</th>\n",
       "      <td>Haskell</td>\n",
       "      <td>218</td>\n",
       "    </tr>\n",
       "    <tr>\n",
       "      <th>24</th>\n",
       "      <td>Julia</td>\n",
       "      <td>120</td>\n",
       "    </tr>\n",
       "  </tbody>\n",
       "</table>\n",
       "</div>"
      ],
      "text/plain": [
       "                    index     0\n",
       "0              JavaScript  7307\n",
       "1                HTML/CSS  6522\n",
       "2                     SQL  6195\n",
       "3                  Python  5060\n",
       "4   Bash/Shell/PowerShell  4822\n",
       "5                      C#  3549\n",
       "6                    Java  3432\n",
       "7              TypeScript  2909\n",
       "8                     C++  2036\n",
       "9                     PHP  1806\n",
       "10                      C  1744\n",
       "11                     Go  1273\n",
       "12                   Ruby  1133\n",
       "13                   Rust   713\n",
       "14                  Swift   709\n",
       "15                      R   701\n",
       "16                    VBA   659\n",
       "17                 Kotlin   613\n",
       "18               Assembly   523\n",
       "19                   Perl   490\n",
       "20                  Scala   478\n",
       "21            Objective-C   467\n",
       "22                   Dart   236\n",
       "23                Haskell   218\n",
       "24                  Julia   120"
      ]
     },
     "execution_count": 47,
     "metadata": {},
     "output_type": "execute_result"
    }
   ],
   "source": [
    "#To get Count of each programming language in 'LanguageWorkedWith' column in USA\n",
    "\n",
    "python_bool1 = df_us['LanguageWorkedWith'].str.split(';', expand = True)\n",
    "python_bool1 = python_bool1.stack().value_counts()\n",
    "python_bool1 = pd.DataFrame(python_bool1)\n",
    "python_bool1.reset_index(inplace = True)\n",
    "python_bool1"
   ]
  },
  {
   "cell_type": "code",
   "execution_count": 48,
   "metadata": {},
   "outputs": [
    {
     "data": {
      "text/html": [
       "<div>\n",
       "<style scoped>\n",
       "    .dataframe tbody tr th:only-of-type {\n",
       "        vertical-align: middle;\n",
       "    }\n",
       "\n",
       "    .dataframe tbody tr th {\n",
       "        vertical-align: top;\n",
       "    }\n",
       "\n",
       "    .dataframe thead th {\n",
       "        text-align: right;\n",
       "    }\n",
       "</style>\n",
       "<table border=\"1\" class=\"dataframe\">\n",
       "  <thead>\n",
       "    <tr style=\"text-align: right;\">\n",
       "      <th></th>\n",
       "      <th>index</th>\n",
       "      <th>0</th>\n",
       "    </tr>\n",
       "  </thead>\n",
       "  <tbody>\n",
       "    <tr>\n",
       "      <th>0</th>\n",
       "      <td>JavaScript</td>\n",
       "      <td>3661</td>\n",
       "    </tr>\n",
       "    <tr>\n",
       "      <th>1</th>\n",
       "      <td>HTML/CSS</td>\n",
       "      <td>3300</td>\n",
       "    </tr>\n",
       "    <tr>\n",
       "      <th>2</th>\n",
       "      <td>SQL</td>\n",
       "      <td>2700</td>\n",
       "    </tr>\n",
       "    <tr>\n",
       "      <th>3</th>\n",
       "      <td>Java</td>\n",
       "      <td>2437</td>\n",
       "    </tr>\n",
       "    <tr>\n",
       "      <th>4</th>\n",
       "      <td>Python</td>\n",
       "      <td>1812</td>\n",
       "    </tr>\n",
       "    <tr>\n",
       "      <th>5</th>\n",
       "      <td>PHP</td>\n",
       "      <td>1527</td>\n",
       "    </tr>\n",
       "    <tr>\n",
       "      <th>6</th>\n",
       "      <td>C</td>\n",
       "      <td>1402</td>\n",
       "    </tr>\n",
       "    <tr>\n",
       "      <th>7</th>\n",
       "      <td>TypeScript</td>\n",
       "      <td>1294</td>\n",
       "    </tr>\n",
       "    <tr>\n",
       "      <th>8</th>\n",
       "      <td>C++</td>\n",
       "      <td>1207</td>\n",
       "    </tr>\n",
       "    <tr>\n",
       "      <th>9</th>\n",
       "      <td>C#</td>\n",
       "      <td>1104</td>\n",
       "    </tr>\n",
       "    <tr>\n",
       "      <th>10</th>\n",
       "      <td>Bash/Shell/PowerShell</td>\n",
       "      <td>831</td>\n",
       "    </tr>\n",
       "    <tr>\n",
       "      <th>11</th>\n",
       "      <td>Kotlin</td>\n",
       "      <td>421</td>\n",
       "    </tr>\n",
       "    <tr>\n",
       "      <th>12</th>\n",
       "      <td>Swift</td>\n",
       "      <td>340</td>\n",
       "    </tr>\n",
       "    <tr>\n",
       "      <th>13</th>\n",
       "      <td>Objective-C</td>\n",
       "      <td>291</td>\n",
       "    </tr>\n",
       "    <tr>\n",
       "      <th>14</th>\n",
       "      <td>Go</td>\n",
       "      <td>279</td>\n",
       "    </tr>\n",
       "    <tr>\n",
       "      <th>15</th>\n",
       "      <td>Dart</td>\n",
       "      <td>272</td>\n",
       "    </tr>\n",
       "    <tr>\n",
       "      <th>16</th>\n",
       "      <td>R</td>\n",
       "      <td>203</td>\n",
       "    </tr>\n",
       "    <tr>\n",
       "      <th>17</th>\n",
       "      <td>Ruby</td>\n",
       "      <td>194</td>\n",
       "    </tr>\n",
       "    <tr>\n",
       "      <th>18</th>\n",
       "      <td>VBA</td>\n",
       "      <td>169</td>\n",
       "    </tr>\n",
       "    <tr>\n",
       "      <th>19</th>\n",
       "      <td>Scala</td>\n",
       "      <td>142</td>\n",
       "    </tr>\n",
       "    <tr>\n",
       "      <th>20</th>\n",
       "      <td>Assembly</td>\n",
       "      <td>132</td>\n",
       "    </tr>\n",
       "    <tr>\n",
       "      <th>21</th>\n",
       "      <td>Perl</td>\n",
       "      <td>111</td>\n",
       "    </tr>\n",
       "    <tr>\n",
       "      <th>22</th>\n",
       "      <td>Rust</td>\n",
       "      <td>51</td>\n",
       "    </tr>\n",
       "    <tr>\n",
       "      <th>23</th>\n",
       "      <td>Haskell</td>\n",
       "      <td>24</td>\n",
       "    </tr>\n",
       "    <tr>\n",
       "      <th>24</th>\n",
       "      <td>Julia</td>\n",
       "      <td>19</td>\n",
       "    </tr>\n",
       "  </tbody>\n",
       "</table>\n",
       "</div>"
      ],
      "text/plain": [
       "                    index     0\n",
       "0              JavaScript  3661\n",
       "1                HTML/CSS  3300\n",
       "2                     SQL  2700\n",
       "3                    Java  2437\n",
       "4                  Python  1812\n",
       "5                     PHP  1527\n",
       "6                       C  1402\n",
       "7              TypeScript  1294\n",
       "8                     C++  1207\n",
       "9                      C#  1104\n",
       "10  Bash/Shell/PowerShell   831\n",
       "11                 Kotlin   421\n",
       "12                  Swift   340\n",
       "13            Objective-C   291\n",
       "14                     Go   279\n",
       "15                   Dart   272\n",
       "16                      R   203\n",
       "17                   Ruby   194\n",
       "18                    VBA   169\n",
       "19                  Scala   142\n",
       "20               Assembly   132\n",
       "21                   Perl   111\n",
       "22                   Rust    51\n",
       "23                Haskell    24\n",
       "24                  Julia    19"
      ]
     },
     "execution_count": 48,
     "metadata": {},
     "output_type": "execute_result"
    }
   ],
   "source": [
    "#To get Count of each programming language in 'LanguageWorkedWith' column\n",
    "\n",
    "python_bool2 = df_ind['LanguageWorkedWith'].str.split(';', expand = True)\n",
    "python_bool2 = python_bool2.stack().value_counts()\n",
    "python_bool2 = pd.DataFrame(python_bool2)\n",
    "python_bool2.reset_index(inplace = True)\n",
    "python_bool2"
   ]
  },
  {
   "cell_type": "code",
   "execution_count": 49,
   "metadata": {},
   "outputs": [],
   "source": [
    "#Store the Column with all the Progremming language to a list\n",
    "python_bool1 = python_bool1['index'].tolist()"
   ]
  },
  {
   "cell_type": "code",
   "execution_count": 50,
   "metadata": {},
   "outputs": [],
   "source": [
    "#Store all the language in a list\n",
    "python_bool1 = ['JavaScript',\n",
    "'HTML/CSS',\n",
    "'SQL',\n",
    "'Python',\n",
    "'Java;',\n",
    "'Bash/Shell/PowerShell',\n",
    "'C#',\n",
    "'TypeScript',\n",
    "'PHP',\n",
    " 'C;',\n",
    "  'C+',              \n",
    " 'Go',\n",
    " 'Kotlin',\n",
    " 'Ruby',\n",
    " 'VBA',\n",
    " 'Swift',\n",
    " 'R;',\n",
    " 'Assembly',\n",
    " 'Rust',\n",
    " 'Objective-C',\n",
    " 'Scala',\n",
    " 'Dart',\n",
    " 'Perl',\n",
    " 'Haskell',\n",
    " 'Julia']"
   ]
  },
  {
   "cell_type": "markdown",
   "metadata": {},
   "source": [
    "## 1. USA"
   ]
  },
  {
   "cell_type": "code",
   "execution_count": 51,
   "metadata": {},
   "outputs": [],
   "source": [
    "#Drop null values\n",
    "df_us2 = df_us.dropna(subset = ['ConvertedComp', 'LanguageWorkedWith'], axis = 0)"
   ]
  },
  {
   "cell_type": "code",
   "execution_count": 52,
   "metadata": {},
   "outputs": [
    {
     "data": {
      "text/html": [
       "<div>\n",
       "<style scoped>\n",
       "    .dataframe tbody tr th:only-of-type {\n",
       "        vertical-align: middle;\n",
       "    }\n",
       "\n",
       "    .dataframe tbody tr th {\n",
       "        vertical-align: top;\n",
       "    }\n",
       "\n",
       "    .dataframe thead th {\n",
       "        text-align: right;\n",
       "    }\n",
       "</style>\n",
       "<table border=\"1\" class=\"dataframe\">\n",
       "  <thead>\n",
       "    <tr style=\"text-align: right;\">\n",
       "      <th></th>\n",
       "      <th>Salary</th>\n",
       "      <th>Programming Language</th>\n",
       "    </tr>\n",
       "  </thead>\n",
       "  <tbody>\n",
       "    <tr>\n",
       "      <th>20</th>\n",
       "      <td>150000.0</td>\n",
       "      <td>Scala</td>\n",
       "    </tr>\n",
       "    <tr>\n",
       "      <th>11</th>\n",
       "      <td>140000.0</td>\n",
       "      <td>Go</td>\n",
       "    </tr>\n",
       "    <tr>\n",
       "      <th>19</th>\n",
       "      <td>135000.0</td>\n",
       "      <td>Objective-C</td>\n",
       "    </tr>\n",
       "    <tr>\n",
       "      <th>12</th>\n",
       "      <td>130000.0</td>\n",
       "      <td>Kotlin</td>\n",
       "    </tr>\n",
       "    <tr>\n",
       "      <th>22</th>\n",
       "      <td>130000.0</td>\n",
       "      <td>Perl</td>\n",
       "    </tr>\n",
       "  </tbody>\n",
       "</table>\n",
       "</div>"
      ],
      "text/plain": [
       "      Salary Programming Language\n",
       "20  150000.0                Scala\n",
       "11  140000.0                   Go\n",
       "19  135000.0          Objective-C\n",
       "12  130000.0               Kotlin\n",
       "22  130000.0                 Perl"
      ]
     },
     "execution_count": 52,
     "metadata": {},
     "output_type": "execute_result"
    }
   ],
   "source": [
    "#To calculate median Salary for each LanguageWorkedWith\n",
    "my_lista = []\n",
    "my_listb = []\n",
    "for k in  python_bool1:\n",
    "    abcd = df_us2[df_us2['LanguageWorkedWith'].str.contains(k)]\n",
    "    my_list = abcd['ConvertedComp'].median()\n",
    "    my_lista.append(my_list)\n",
    "    my_listb.append(k)\n",
    "\n",
    "df_my_lista = pd.DataFrame(my_lista, columns = ['Salary'])\n",
    "df_my_listb = pd.DataFrame(my_listb, columns = ['Programming Language'])\n",
    "df_my_lista['Programming Language'] = df_my_listb\n",
    "df_my_lista\n",
    "df_my_lista = df_my_lista.sort_values(by = 'Salary', ascending = False)\n",
    "df_my_lista.head()\n",
    "\n",
    "#abc = df_ind[df_ind['DevType'].str.contains(i)]"
   ]
  },
  {
   "cell_type": "code",
   "execution_count": 53,
   "metadata": {},
   "outputs": [
    {
     "data": {
      "text/plain": [
       "Text(0, 0.5, '')"
      ]
     },
     "execution_count": 53,
     "metadata": {},
     "output_type": "execute_result"
    },
    {
     "data": {
      "image/png": "[encoded data removed]",
      "text/plain": [
       "<Figure size 576x576 with 1 Axes>"
      ]
     },
     "metadata": {
      "needs_background": "light"
     },
     "output_type": "display_data"
    }
   ],
   "source": [
    "# Bar Chart to indicate median salary for each Programming Language worked with\n",
    "plt.figure(figsize=[8,8])\n",
    "sns.barplot( y = 'Programming Language' , x = 'Salary', data = df_my_lista , \n",
    "            palette = sns.color_palette(\"Set3\", 1)).set_title(\"USA\")\n",
    "plt.xlabel(\"Median Salary(USD)\")\n",
    "plt.ylabel(\"\")"
   ]
  },
  {
   "cell_type": "code",
   "execution_count": 54,
   "metadata": {},
   "outputs": [],
   "source": [
    "df_ind2 = df_ind.dropna(subset = ['ConvertedComp', 'LanguageWorkedWith'], axis = 0)"
   ]
  },
  {
   "cell_type": "code",
   "execution_count": 55,
   "metadata": {},
   "outputs": [
    {
     "data": {
      "text/html": [
       "<div>\n",
       "<style scoped>\n",
       "    .dataframe tbody tr th:only-of-type {\n",
       "        vertical-align: middle;\n",
       "    }\n",
       "\n",
       "    .dataframe tbody tr th {\n",
       "        vertical-align: top;\n",
       "    }\n",
       "\n",
       "    .dataframe thead th {\n",
       "        text-align: right;\n",
       "    }\n",
       "</style>\n",
       "<table border=\"1\" class=\"dataframe\">\n",
       "  <thead>\n",
       "    <tr style=\"text-align: right;\">\n",
       "      <th></th>\n",
       "      <th>Salary</th>\n",
       "      <th>Programming Language</th>\n",
       "    </tr>\n",
       "  </thead>\n",
       "  <tbody>\n",
       "    <tr>\n",
       "      <th>18</th>\n",
       "      <td>23460.0</td>\n",
       "      <td>Rust</td>\n",
       "    </tr>\n",
       "    <tr>\n",
       "      <th>20</th>\n",
       "      <td>20943.0</td>\n",
       "      <td>Scala</td>\n",
       "    </tr>\n",
       "    <tr>\n",
       "      <th>22</th>\n",
       "      <td>18848.0</td>\n",
       "      <td>Perl</td>\n",
       "    </tr>\n",
       "    <tr>\n",
       "      <th>11</th>\n",
       "      <td>16877.0</td>\n",
       "      <td>Go</td>\n",
       "    </tr>\n",
       "    <tr>\n",
       "      <th>13</th>\n",
       "      <td>16754.0</td>\n",
       "      <td>Ruby</td>\n",
       "    </tr>\n",
       "  </tbody>\n",
       "</table>\n",
       "</div>"
      ],
      "text/plain": [
       "     Salary Programming Language\n",
       "18  23460.0                 Rust\n",
       "20  20943.0                Scala\n",
       "22  18848.0                 Perl\n",
       "11  16877.0                   Go\n",
       "13  16754.0                 Ruby"
      ]
     },
     "execution_count": 55,
     "metadata": {},
     "output_type": "execute_result"
    }
   ],
   "source": [
    "#To calculate median Salary for each LanguageWorkedWith\n",
    "my_listaa = []\n",
    "my_listbb = []\n",
    "for l in  python_bool1:\n",
    "    abcde = df_ind2[df_ind2['LanguageWorkedWith'].str.contains(l)]\n",
    "    my_list1 = abcde['ConvertedComp'].median()\n",
    "    my_listaa.append(my_list1)\n",
    "    my_listbb.append(l)\n",
    "\n",
    "df_my_listaa = pd.DataFrame(my_listaa, columns = ['Salary'])\n",
    "df_my_listbb = pd.DataFrame(my_listbb, columns = ['Programming Language'])\n",
    "df_my_listaa['Programming Language'] = df_my_listbb\n",
    "df_my_listaa\n",
    "df_my_listaa = df_my_listaa.sort_values(by = 'Salary', ascending = False)\n",
    "df_my_listaa.head()\n",
    "\n",
    "#abc = df_ind[df_ind['DevType'].str.contains(i)]"
   ]
  },
  {
   "cell_type": "code",
   "execution_count": 46,
   "metadata": {},
   "outputs": [],
   "source": []
  },
  {
   "cell_type": "code",
   "execution_count": 47,
   "metadata": {},
   "outputs": [
    {
     "ename": "NameError",
     "evalue": "name 'df_us1' is not defined",
     "output_type": "error",
     "traceback": [
      "\u001b[1;31m---------------------------------------------------------------------------\u001b[0m",
      "\u001b[1;31mNameError\u001b[0m                                 Traceback (most recent call last)",
      "\u001b[1;32m<ipython-input-47-42605a92cd4e>\u001b[0m in \u001b[0;36m<module>\u001b[1;34m\u001b[0m\n\u001b[1;32m----> 1\u001b[1;33m \u001b[0mmedian_sal\u001b[0m \u001b[1;33m=\u001b[0m \u001b[0msplit_the_multipunch\u001b[0m\u001b[1;33m(\u001b[0m\u001b[0mdf_us1\u001b[0m \u001b[1;33m,\u001b[0m\u001b[1;34m'DevType'\u001b[0m \u001b[1;33m,\u001b[0m \u001b[1;34m'ConvertedComp'\u001b[0m \u001b[1;33m,\u001b[0m  \u001b[0mDevType_Values\u001b[0m\u001b[1;33m)\u001b[0m\u001b[1;33m\u001b[0m\u001b[1;33m\u001b[0m\u001b[0m\n\u001b[0m\u001b[0;32m      2\u001b[0m \u001b[0mmedian_sal\u001b[0m\u001b[1;33m\u001b[0m\u001b[1;33m\u001b[0m\u001b[0m\n",
      "\u001b[1;31mNameError\u001b[0m: name 'df_us1' is not defined"
     ]
    }
   ],
   "source": []
  },
  {
   "cell_type": "code",
   "execution_count": 56,
   "metadata": {},
   "outputs": [
    {
     "data": {
      "text/plain": [
       "Text(0, 0.5, '')"
      ]
     },
     "execution_count": 56,
     "metadata": {},
     "output_type": "execute_result"
    },
    {
     "data": {
      "image/png": "[encoded data removed]",
      "text/plain": [
       "<Figure size 576x576 with 1 Axes>"
      ]
     },
     "metadata": {
      "needs_background": "light"
     },
     "output_type": "display_data"
    }
   ],
   "source": [
    "# Bar Chart to indicate median salary for each Programming Language worked with\n",
    "plt.figure(figsize=[8,8])\n",
    "sns.barplot( y = 'Programming Language' , x = 'Salary', data = df_my_listaa , \n",
    "            color = 'salmon').set_title(\"India\")\n",
    "plt.xlabel(\"Median Salary(USD)\")\n",
    "plt.ylabel(\"\")"
   ]
  },
  {
   "cell_type": "markdown",
   "metadata": {},
   "source": [
    "From these factors we can see that why many Indian developers move to USA for work. Also on the other hand, we can also see why many US companies outsource their Software development to India. "
   ]
  },
  {
   "cell_type": "markdown",
   "metadata": {},
   "source": [
    "## 5.  Model Building"
   ]
  },
  {
   "cell_type": "code",
   "execution_count": 57,
   "metadata": {},
   "outputs": [],
   "source": [
    "#Loading functions\n",
    "import statsmodels.api as sm\n",
    "import statsmodels.formula.api as smf"
   ]
  },
  {
   "cell_type": "markdown",
   "metadata": {},
   "source": [
    "### OLS regression model for USA to predict salary"
   ]
  },
  {
   "cell_type": "code",
   "execution_count": 58,
   "metadata": {},
   "outputs": [
    {
     "name": "stdout",
     "output_type": "stream",
     "text": [
      "                            OLS Regression Results                            \n",
      "==============================================================================\n",
      "Dep. Variable:          ConvertedComp   R-squared:                       0.013\n",
      "Model:                            OLS   Adj. R-squared:                  0.010\n",
      "Method:                 Least Squares   F-statistic:                     3.633\n",
      "Date:                Wed, 20 Jan 2021   Prob (F-statistic):           2.49e-09\n",
      "Time:                        23:34:07   Log-Likelihood:                -96977.\n",
      "No. Observations:                6819   AIC:                         1.940e+05\n",
      "Df Residuals:                    6793   BIC:                         1.942e+05\n",
      "Df Model:                          25                                         \n",
      "Covariance Type:            nonrobust                                         \n",
      "=================================================================================================================================\n",
      "                                                                    coef    std err          t      P>|t|      [0.025      0.975]\n",
      "---------------------------------------------------------------------------------------------------------------------------------\n",
      "Intercept                                                     -7.691e+04    1.7e+05     -0.453      0.651    -4.1e+05    2.56e+05\n",
      "Hobbyist[T.Yes]                                                1.501e+04   1.07e+04      1.398      0.162   -6033.185     3.6e+04\n",
      "EdLevel[T.Doctoral degree]                                    -1.786e+04   2.52e+04     -0.708      0.479   -6.74e+04    3.16e+04\n",
      "EdLevel[T.High school or lesser]                               2.257e+04   2.69e+04      0.839      0.401   -3.01e+04    7.53e+04\n",
      "EdLevel[T.Master’s degree]                                    -6273.7134    1.2e+04     -0.524      0.601   -2.98e+04    1.72e+04\n",
      "EdLevel[T.Some college/Associate degree/Unfinished degree]    -9362.5544   1.24e+04     -0.757      0.449   -3.36e+04    1.49e+04\n",
      "Gender[T.Man]                                                  6.606e+04    3.1e+04      2.131      0.033    5283.116    1.27e+05\n",
      "Gender[T.Woman]                                                2.793e+04    3.4e+04      0.822      0.411   -3.86e+04    9.45e+04\n",
      "JobSat[T.Slightly dissatisfied]                                 1.55e+04   1.94e+04      0.797      0.425   -2.26e+04    5.36e+04\n",
      "JobSat[T.Slightly satisfied]                                  -1.334e+04   1.75e+04     -0.764      0.445   -4.76e+04    2.09e+04\n",
      "JobSat[T.Very dissatisfied]                                   -4770.8682   2.36e+04     -0.202      0.840    -5.1e+04    4.15e+04\n",
      "JobSat[T.Very satisfied]                                        648.9460   1.69e+04      0.038      0.969   -3.26e+04    3.39e+04\n",
      "OpSys[T.Linux-based]                                           9.726e+04   1.63e+05      0.596      0.551   -2.23e+05    4.17e+05\n",
      "OpSys[T.MacOS]                                                 9.513e+04   1.63e+05      0.583      0.560   -2.25e+05    4.15e+05\n",
      "OpSys[T.Windows]                                               7.485e+04   1.63e+05      0.459      0.646   -2.45e+05    3.94e+05\n",
      "OrgSize[T.10 to 19 employees]                                 -4.561e+04   2.19e+04     -2.079      0.038   -8.86e+04   -2610.550\n",
      "OrgSize[T.10,000 or more employees]                            2.036e+04   1.49e+04      1.365      0.172   -8881.934    4.96e+04\n",
      "OrgSize[T.100 to 499 employees]                               -1.949e+04   1.53e+04     -1.277      0.202   -4.94e+04    1.04e+04\n",
      "OrgSize[T.2 to 9 employees]                                   -6.476e+04   2.16e+04     -2.993      0.003   -1.07e+05   -2.23e+04\n",
      "OrgSize[T.20 to 99 employees]                                 -7759.4269   1.57e+04     -0.494      0.621   -3.85e+04     2.3e+04\n",
      "OrgSize[T.5,000 to 9,999 employees]                            1682.6804   2.19e+04      0.077      0.939   -4.12e+04    4.45e+04\n",
      "OrgSize[T.500 to 999 employees]                               -3.393e+04   2.11e+04     -1.606      0.108   -7.53e+04    7492.016\n",
      "OrgSize[T.Just me - I am a freelancer, sole proprietor, etc.] -8.987e+04   2.97e+04     -3.023      0.003   -1.48e+05   -3.16e+04\n",
      "Age                                                             372.7662    792.076      0.471      0.638   -1179.950    1925.482\n",
      "YearsCode                                                        75.9379    709.994      0.107      0.915   -1315.872    1467.748\n",
      "WorkWeekHrs                                                    2984.9932    585.100      5.102      0.000    1838.015    4131.972\n",
      "==============================================================================\n",
      "Omnibus:                     5692.125   Durbin-Watson:                   2.005\n",
      "Prob(Omnibus):                  0.000   Jarque-Bera (JB):            98922.634\n",
      "Skew:                           4.174   Prob(JB):                         0.00\n",
      "Kurtosis:                      19.688   Cond. No.                     4.26e+03\n",
      "==============================================================================\n",
      "\n",
      "Notes:\n",
      "[1] Standard Errors assume that the covariance matrix of the errors is correctly specified.\n",
      "[2] The condition number is large, 4.26e+03. This might indicate that there are\n",
      "strong multicollinearity or other numerical problems.\n"
     ]
    }
   ],
   "source": [
    "#Fit the model\n",
    "mod = smf.ols(formula ='ConvertedComp  ~   Hobbyist + Age + EdLevel + Gender + JobSat + OpSys + OrgSize + YearsCode + WorkWeekHrs', \n",
    "              data=df_us)\n",
    "res = mod.fit()\n",
    "print(res.summary())"
   ]
  },
  {
   "cell_type": "code",
   "execution_count": 59,
   "metadata": {},
   "outputs": [],
   "source": [
    "### OLS regression model for India to predict salary"
   ]
  },
  {
   "cell_type": "code",
   "execution_count": 60,
   "metadata": {},
   "outputs": [
    {
     "name": "stdout",
     "output_type": "stream",
     "text": [
      "                            OLS Regression Results                            \n",
      "==============================================================================\n",
      "Dep. Variable:          ConvertedComp   R-squared:                       0.052\n",
      "Model:                            OLS   Adj. R-squared:                  0.045\n",
      "Method:                 Least Squares   F-statistic:                     7.400\n",
      "Date:                Wed, 20 Jan 2021   Prob (F-statistic):           3.24e-16\n",
      "Time:                        23:34:08   Log-Likelihood:                -25772.\n",
      "No. Observations:                2054   AIC:                         5.158e+04\n",
      "Df Residuals:                    2038   BIC:                         5.167e+04\n",
      "Df Model:                          15                                         \n",
      "Covariance Type:            nonrobust                                         \n",
      "=================================================================================================================================\n",
      "                                                                    coef    std err          t      P>|t|      [0.025      0.975]\n",
      "---------------------------------------------------------------------------------------------------------------------------------\n",
      "Intercept                                                     -1.093e+05   7.57e+04     -1.444      0.149   -2.58e+05    3.91e+04\n",
      "Gender[T.Man]                                                  6765.7017   2.81e+04      0.241      0.810   -4.83e+04    6.18e+04\n",
      "Gender[T.Woman]                                               -1070.3967   2.89e+04     -0.037      0.970   -5.77e+04    5.56e+04\n",
      "OpSys[T.Linux-based]                                           5.545e+04   6.87e+04      0.807      0.420   -7.93e+04     1.9e+05\n",
      "OpSys[T.MacOS]                                                 5.838e+04   6.87e+04      0.849      0.396   -7.64e+04    1.93e+05\n",
      "OpSys[T.Windows]                                               4.672e+04   6.87e+04      0.680      0.497    -8.8e+04    1.81e+05\n",
      "OrgSize[T.10 to 19 employees]                                 -1.503e+04   6930.152     -2.168      0.030   -2.86e+04   -1434.146\n",
      "OrgSize[T.10,000 or more employees]                            3204.6920   6152.856      0.521      0.603   -8861.850    1.53e+04\n",
      "OrgSize[T.100 to 499 employees]                               -2426.1271   6148.242     -0.395      0.693   -1.45e+04    9631.366\n",
      "OrgSize[T.2 to 9 employees]                                   -3845.6982   7328.042     -0.525      0.600   -1.82e+04    1.05e+04\n",
      "OrgSize[T.20 to 99 employees]                                 -1.277e+04   5990.151     -2.132      0.033   -2.45e+04   -1023.066\n",
      "OrgSize[T.5,000 to 9,999 employees]                            7448.2821   8829.149      0.844      0.399   -9866.815    2.48e+04\n",
      "OrgSize[T.500 to 999 employees]                                -256.6574   7641.732     -0.034      0.973   -1.52e+04    1.47e+04\n",
      "OrgSize[T.Just me - I am a freelancer, sole proprietor, etc.]  -2.02e+04   1.12e+04     -1.803      0.072   -4.22e+04    1768.571\n",
      "Age                                                            2899.7999    343.843      8.433      0.000    2225.479    3574.121\n",
      "WorkWeekHrs                                                      54.5509     90.317      0.604      0.546    -122.572     231.674\n",
      "==============================================================================\n",
      "Omnibus:                     2942.669   Durbin-Watson:                   2.019\n",
      "Prob(Omnibus):                  0.000   Jarque-Bera (JB):           740955.317\n",
      "Skew:                           8.445   Prob(JB):                         0.00\n",
      "Kurtosis:                      94.501   Cond. No.                     4.71e+03\n",
      "==============================================================================\n",
      "\n",
      "Notes:\n",
      "[1] Standard Errors assume that the covariance matrix of the errors is correctly specified.\n",
      "[2] The condition number is large, 4.71e+03. This might indicate that there are\n",
      "strong multicollinearity or other numerical problems.\n"
     ]
    }
   ],
   "source": [
    "mod = smf.ols(formula ='ConvertedComp  ~     Gender + Age + OpSys + OrgSize + WorkWeekHrs' , data=df_ind)\n",
    "res = mod.fit()\n",
    "print(res.summary())"
   ]
  },
  {
   "cell_type": "markdown",
   "metadata": {},
   "source": [
    "####  Analysis:"
   ]
  },
  {
   "cell_type": "markdown",
   "metadata": {},
   "source": [
    "Both the regression models to predict salary in USA and India have a bery low R Square value, meaning the variables are not good at explaining the variablility in the Salary. Thus we need to work more to find a better model. "
   ]
  },
  {
   "cell_type": "markdown",
   "metadata": {},
   "source": [
    "# 6.  Conclusion and Inferences:\n"
   ]
  },
  {
   "cell_type": "markdown",
   "metadata": {},
   "source": [
    "1. How different is the median salary in the USA and India?\n",
    "\n",
    "    We see a stark difference in the median Income of the USA and India. USA with median income of 115k USD has among the highest median income among all countries, while India is far behind with a median income of 10K USD.\n",
    "\n",
    "\n",
    "2. What is the spread of salary distribution in USA and India?\n",
    "\n",
    "    We can see that the salary in USA is nearly normally distributed, where as in India the salary is heavily Right-Skewed. This means ther eare far more people payed lesser in India. \n",
    "\n",
    "\n",
    "3. How different are the gender pay gap in USA and India?\n",
    "\n",
    "    In the USA, Men eard 12% more than Women, while in India Men earn around 49% more than Women.The gender pay gap seem sto be much more stark in India than in USA. \n",
    "\n",
    "\n",
    "4. How are developers paid based on their qualification? \n",
    "\n",
    "    In the USA, PhD holders, followed by Master's and then Bachelor's are payed high. Where as in India, Master's are paid highest followed by Bachelor's degree holders, however PhD holders seem to be paid among the least. \n",
    "Note: The margin of error for median salary of PhD holders in India is quite high, because very less No of respondents in India were PhD holders to be able to draw inferance. \n",
    "\n",
    "\n",
    "5. How are developers paid based on the developer role?\n",
    "\n",
    "    Based on the survey, In both India and the US, Engineering Manager and Senior executive/VPs are among the highest-paid. However, in India, Senior executives/VPs are only paid a distinct second to the Engineering managers. \n",
    "    \n",
    "    Data scientists and Data engineers are among the highest-paid in the USA, while in India they are not paid as much as compared to other roles within India. \n",
    "\n",
    "    Also, in India, those in Marketing and sales have better salaries compared to many other hard-core tech roles in India such as Full-stack/backend developer or database admin. Whereas in the US, Marketing and sales professionals are among the least paid. \n",
    "\n",
    "    The most notable difference in salary patterns in India in comparison to the USA is that there is a substantial pay gap between the higher paid roles and the least paid roles. For example Designers, Mobile developers, and QA testers are paid about 6k yearly, whereas Engineering managers are paid over 30k, and SREs and DevOps specialists are paid about 20k yearly. Whereas in the case of the USA, most roles have a median annual salary over 100k\n",
    "\n",
    "\n",
    "6. What are the programming languages that pays the most in USA and India? \n",
    "\n",
    "    Developers who know Scala are among the highest paid in both the USA and India, based on the survey. Developers who knew Rust were the highest paid in India, followed by Scala and Pearl. \n",
    "    \n",
    "    In both India and the USA, programming languages such as Rust, Pearl, Ruby had relatively less number of respondents who knew them, however are among the highest-paid. \n",
    "    \n",
    "    Another interesting observation is that VBA has the least median salary in the USA while in India they are paid relatively higher in India. On the contrary, developers with experience in Kotlin are among the lesser paid in India while in the USA they are paid higher when compared to other languages in the USA. \n",
    "    \n",
    "    In both India and the USA, developers with experience in PHP are among the least paid."
   ]
  },
  {
   "cell_type": "code",
   "execution_count": null,
   "metadata": {},
   "outputs": [],
   "source": []
  }
 ],
 "metadata": {
  "kernelspec": {
   "display_name": "Python 3",
   "language": "python",
   "name": "python3"
  },
  "language_info": {
   "codemirror_mode": {
    "name": "ipython",
    "version": 3
   },
   "file_extension": ".py",
   "mimetype": "text/x-python",
   "name": "python",
   "nbconvert_exporter": "python",
   "pygments_lexer": "ipython3",
   "version": "3.8.5"
  }
 },
 "nbformat": 4,
 "nbformat_minor": 2
}
